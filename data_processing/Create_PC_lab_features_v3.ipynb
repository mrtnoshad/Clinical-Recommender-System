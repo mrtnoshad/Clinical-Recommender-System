{
 "cells": [
  {
   "cell_type": "markdown",
   "metadata": {},
   "source": [
    "### Load PC_Lab_results from BQ"
   ]
  },
  {
   "cell_type": "code",
   "execution_count": 1,
   "metadata": {},
   "outputs": [
    {
     "name": "stderr",
     "output_type": "stream",
     "text": [
      "/Library/Frameworks/Python.framework/Versions/3.6/lib/python3.6/site-packages/google/auth/_default.py:69: UserWarning: Your application has authenticated using end user credentials from Google Cloud SDK. We recommend that most server applications use service accounts instead. If your application continues to use end user credentials from Cloud SDK, you might receive a \"quota exceeded\" or \"API not enabled\" error. For more information about service accounts, see https://cloud.google.com/docs/authentication/\n",
      "  warnings.warn(_CLOUD_SDK_CREDENTIALS_WARNING)\n"
     ]
    }
   ],
   "source": [
    "# example: read from BigQuery chart to numpy\n",
    "from google.cloud import bigquery\n",
    "from google.cloud.bigquery import dbapi;\n",
    "import numpy as np\n",
    "import pandas as pd\n",
    "\n",
    "\n",
    "\n",
    "client = bigquery.Client(\"som-nero-phi-jonc101\"); # Project identifier\n",
    "conn = dbapi.connect(client);\n",
    "cursor = conn.cursor();\n",
    "query = \"select * from `som-nero-phi-jonc101.Clinical_Collaborative_Filtering.pc_lab_results_v2`\"; # Example dataset table\n",
    "\n",
    "\n",
    "# to DataFrame\n",
    "\n",
    "df_all = (\n",
    "    client.query(query)\n",
    "    .result()\n",
    "    .to_dataframe()\n",
    ")\n",
    "\n"
   ]
  },
  {
   "cell_type": "markdown",
   "metadata": {},
   "source": [
    "### Remove unnecessary columns and rows"
   ]
  },
  {
   "cell_type": "code",
   "execution_count": 14,
   "metadata": {},
   "outputs": [
    {
     "name": "stdout",
     "output_type": "stream",
     "text": [
      "     jc_uid        PC_enc     PC_app_datetime     PC_ref_datetime  \\\n",
      "0  JCd44fac  131237396077 2017-07-14 17:51:00 2017-08-08 16:03:00   \n",
      "1  JCe97b60      32550957 2009-03-29 13:15:00 2009-03-29 14:25:00   \n",
      "2  JCdc3e0f  131018716402 2012-06-08 00:00:00 2012-06-08 16:55:00   \n",
      "3  JCe64bc8  131066812942 2015-01-12 00:00:00 2015-01-12 14:13:00   \n",
      "4  JCcc1374  131200356462 2016-10-14 00:00:00 2016-10-14 16:23:00   \n",
      "\n",
      "                 lab_name  PC_result  \n",
      "0         HCO3 (a), ISTAT          0  \n",
      "1                  pH (a)          0  \n",
      "2      Cholesterol, Total          0  \n",
      "3  Unconjugated Bilirubin          0  \n",
      "4                    HCO3          0  \n",
      "         PC_enc                lab_name  PC_result\n",
      "0  131237396077         HCO3 (a), ISTAT          0\n",
      "1      32550957                  pH (a)          0\n",
      "2  131018716402      Cholesterol, Total          0\n",
      "3  131066812942  Unconjugated Bilirubin          0\n",
      "4  131200356462                    HCO3          0\n"
     ]
    }
   ],
   "source": [
    "print(df_all.head())\n",
    "\n",
    "# only take PC_enc and proc_id\n",
    "df = df_all[['PC_enc', 'lab_name', 'PC_result']]\n",
    "\n",
    "# remove duplicate rows:\n",
    "df = df.drop_duplicates(['PC_enc', 'lab_name'])\n",
    "\n",
    "print(df.head())"
   ]
  },
  {
   "cell_type": "code",
   "execution_count": 21,
   "metadata": {},
   "outputs": [
    {
     "name": "stdout",
     "output_type": "stream",
     "text": [
      "(519776, 3)\n"
     ]
    },
    {
     "data": {
      "text/plain": [
       "<matplotlib.axes._subplots.AxesSubplot at 0x14aed2c88>"
      ]
     },
     "execution_count": 21,
     "metadata": {},
     "output_type": "execute_result"
    },
    {
     "data": {
      "image/png": "[encoded data removed]",
      "text/plain": [
       "<Figure size 432x288 with 1 Axes>"
      ]
     },
     "metadata": {
      "needs_background": "light"
     },
     "output_type": "display_data"
    }
   ],
   "source": [
    "print(df.shape)\n",
    "lendf = df.shape[0]\n",
    "df_plot = df['lab_name'].value_counts().head(10).reset_index().rename(columns={'index':'Lab Name','lab_name':'percentage' })\n",
    "df_plot['percentage' ]=df_plot['percentage' ]/lendf\n",
    "df_plot.plot.bar(x='Lab Name',y='percentage' )"
   ]
  },
  {
   "cell_type": "markdown",
   "metadata": {},
   "source": [
    "### Create the table of unique encounter id"
   ]
  },
  {
   "cell_type": "code",
   "execution_count": 3,
   "metadata": {},
   "outputs": [
    {
     "name": "stdout",
     "output_type": "stream",
     "text": [
      "19225\n",
      "             PC_enc  num_unq_proc\n",
      "7313   131082462259            91\n",
      "6925   131066588148            88\n",
      "8125   131118829796            84\n",
      "7821   131097590735            84\n",
      "10902  131202280593            84\n",
      "All of the encounters with at least one lab result:  19225\n",
      "Average lab per encounter:  27.036462938881666\n",
      "Min lab per encounter:  1\n",
      "Max lab per encounter:  91\n"
     ]
    }
   ],
   "source": [
    "unq_PC_enc = df.groupby(['PC_enc']).apply(len).reset_index().rename(columns={'lab_name':'lab_name', 0:'num_unq_proc'}).sort_values('num_unq_proc',ascending=False)  \n",
    "print(len(unq_PC_enc))\n",
    "print(unq_PC_enc.head())\n",
    "print('All of the encounters with at least one lab result: ',len(unq_PC_enc))\n",
    "print('Average lab per encounter: ', np.mean(unq_PC_enc.num_unq_proc.to_numpy()))\n",
    "print('Min lab per encounter: ', np.min(unq_PC_enc.num_unq_proc.to_numpy()))\n",
    "print('Max lab per encounter: ', np.max(unq_PC_enc.num_unq_proc.to_numpy()))"
   ]
  },
  {
   "cell_type": "markdown",
   "metadata": {},
   "source": [
    "### Sort according to the most frequent labs (not necessarily how important they are)"
   ]
  },
  {
   "cell_type": "code",
   "execution_count": 12,
   "metadata": {},
   "outputs": [
    {
     "name": "stdout",
     "output_type": "stream",
     "text": [
      "['Creatinine, Ser/Plas' 'Calcium, Ser/Plas' 'Potassium, Ser/Plas'\n",
      " 'Sodium, Ser/Plas' 'Glucose, Ser/Plas' 'Chloride, Ser/Plas'\n",
      " 'CO2, Ser/Plas' 'ALT (SGPT), Ser/Plas' 'Albumin, Ser/Plas' 'WBC' 'RBC'\n",
      " 'AST (SGOT), Ser/Plas' 'Hematocrit' 'Platelet count' 'Hemoglobin' 'MCV'\n",
      " 'RDW' 'MCHC' 'MCH' \"Alk P'TASE, Total, Ser/Plas\"\n",
      " 'Protein, Total, Ser/Plas' 'Globulin' 'Anion Gap' 'eGFR' 'TSH'\n",
      " 'Total Bilirubin' 'Triglyceride, Ser/Plas' 'BUN, Ser/Plas'\n",
      " 'HDL Cholesterol' 'Urea Nitrogen,Ser/Plas' 'Hemoglobin A1c'\n",
      " 'Total Bilirubin, Ser/Plas' 'EOS, ABS' 'Cholesterol/HDL Ratio'\n",
      " 'Monocyte, Absolute' 'Lymphocyte, Absolute' 'Eosinophil, Absolute'\n",
      " 'Neutrophil, Absolute' 'eGFR for African American' 'NEUT, ABS'\n",
      " 'MONO, ABS' 'LYM, ABS' 'Non-HDL Chol, Calc' 'Cholesterol, Total'\n",
      " 'Magnesium, Ser/Plas' 'LDL (Calculated)' 'INR' 'Prothrombin Time'\n",
      " 'Glucose by Meter' '25-Hydroxy D, Total' 'pH' 'Direct LDL Chol'\n",
      " 'Phosphorus, Ser/Plas' 'Part. Thromboplastin Time' 'Conjugated Bili'\n",
      " 'C-Reactive Protein' 'Unconjugated Bilirubin' 'HCO3'\n",
      " 'Glucose, Whole Blood' 'tCO2' 'Potassium, Whole Bld'\n",
      " 'Chloride, Whole Bld' 'Sodium, Whole Blood' 'Hct (Est)' 'PCO2 (v), ISTAT'\n",
      " 'HCO3 (v), ISTAT' 'TCO2 (v), ISTAT' 'O2 Saturation, ISTAT (Ven)'\n",
      " 'PO2 (v), ISTAT' 'Calcium Ionized' 'LDH, Total, Ser/Plas' 'pCO2 (a)'\n",
      " 'pO2 (a)' 'pH (a)' 'ctO2 (a)' 'Base Excess (vt)' 'Lymphocytes'\n",
      " 'Calcium, Ionized' 'HgB' 'HCO3 (a), ISTAT' 'pCO2 (a), ISTAT'\n",
      " 'PO2 (a), ISTAT' 'PH (a), ISTAT' 'O2 Saturation, ISTAT'\n",
      " 'Hgb(Calc), ISTAT' 'pCO2 (v)' 'O2 Saturation (v)' 'pO2 (v)' 'ctO2 (v)'\n",
      " 'tHB' 'TCO2 (a), ISTAT' 'Fibrinogen' 'Myelocytes' 'Lym, ABS (man diff)'\n",
      " 'Seg neutrophils' 'Base Deficit (vt)' 'D-Dimer' 'Hct, ISTAT'\n",
      " 'Calcium,Ion, ISTAT' 'TCO2, ISTAT']\n",
      "['LYM, ABS' 'Non-HDL Chol, Calc' 'Cholesterol, Total'\n",
      " 'Magnesium, Ser/Plas' 'LDL (Calculated)']\n"
     ]
    }
   ],
   "source": [
    "N_lab = 100\n",
    "N_proc = 100\n",
    "temp_df = df.groupby(['lab_name']).apply(len).reset_index().rename(columns={'lab_name':'lab_name', 0:'num'}) #, as_index=False  \n",
    "\n",
    "Top_proc = temp_df.sort_values('num',ascending=False).head(N_proc)['lab_name'].to_numpy()\n",
    "print(Top_proc)\n",
    "\n",
    "print(Top_proc[41:46])\n",
    "#df=df.sort_values('num',ascending=False)"
   ]
  },
  {
   "cell_type": "markdown",
   "metadata": {},
   "source": [
    "### Create Feature Matrix of Lab Results"
   ]
  },
  {
   "cell_type": "code",
   "execution_count": 5,
   "metadata": {},
   "outputs": [
    {
     "name": "stdout",
     "output_type": "stream",
     "text": [
      "Index(['PC_enc', 'lab_name', 'PC_result'], dtype='object')\n",
      "99.0%999999999999%%         PC_enc  num_unq_proc  Lab0  Low0  High0  Lab1  Low1  High1  Lab2  \\\n",
      "0  131082462259            91     1     0      1     1     0      0     1   \n",
      "1  131066588148            88     1     0      0     1     0      0     1   \n",
      "2  131118829796            84     1     0      1     1     0      0     1   \n",
      "3  131097590735            84     1     0      0     1     0      0     1   \n",
      "4  131202280593            84     1     0      0     1     0      0     1   \n",
      "\n",
      "   Low2  ...  High96  Lab97  Low97  High97  Lab98  Low98  High98  Lab99  \\\n",
      "0     0  ...       1      1      1       0      1      0       0      1   \n",
      "1     0  ...       1      0      0       0      0      0       0      1   \n",
      "2     0  ...       1      1      1       0      1      0       0      0   \n",
      "3     0  ...       1      1      0       0      1      0       0      0   \n",
      "4     0  ...       1      1      0       0      1      0       0      1   \n",
      "\n",
      "   Low99  High99  \n",
      "0      0       0  \n",
      "1      0       0  \n",
      "2      0       0  \n",
      "3      0       0  \n",
      "4      0       0  \n",
      "\n",
      "[5 rows x 302 columns]\n"
     ]
    }
   ],
   "source": [
    "print(df.columns)\n",
    "import sys\n",
    "\n",
    "for i in range(N_lab): #N_lab\n",
    "    \n",
    "    # define the function: applies on the lab results of each encounter\n",
    "    def my_func(df):\n",
    "        \n",
    "        # Create a pandas series\n",
    "        d = {}\n",
    "        d['Lab'+str(i)] = 0\n",
    "        d['Low'+str(i)] = 0\n",
    "        d['High'+str(i)] = 0\n",
    "        \n",
    "        df_lab = df[df['lab_name']== Top_proc[i]]\n",
    "        \n",
    "        if len(df_lab)>0:\n",
    "            \n",
    "            d['Lab'+str(i)] = 1\n",
    "            a = df_lab.PC_result.values[0] # The assumption is that each patient has only done one of each lab\n",
    "            \n",
    "            if a==-1:\n",
    "                d['Low'+str(i)] = 1\n",
    "            \n",
    "            elif a==1:\n",
    "                d['High'+str(i)] = 1\n",
    "\n",
    "        return pd.Series(d) #, index=['a_sum', 'a_max', 'b_mean', 'c_d_prodsum'])\n",
    "    \n",
    "    \n",
    "    \n",
    "    F_df = df.groupby(['PC_enc']).apply(my_func).reset_index()#.rename(columns={'lab_name':'lab_name', 0:'F'+str(i)}) \n",
    "    # Encoding of the column Fi into two columns (Fi: lab result, Ti: test is done)\n",
    "    \n",
    "    unq_PC_enc = pd.merge(unq_PC_enc, F_df, how='left', on='PC_enc')\n",
    "    \n",
    "    \n",
    "    \n",
    "    \n",
    "    # report i \n",
    "    sys.stdout.write('\\r')\n",
    "    sys.stdout.write(str(i/N_proc*100)+'%')\n",
    "    sys.stdout.flush()\n",
    "\n",
    "\n",
    "print(unq_PC_enc.head())\n"
   ]
  },
  {
   "cell_type": "markdown",
   "metadata": {},
   "source": [
    "### Save the Results into CSV"
   ]
  },
  {
   "cell_type": "code",
   "execution_count": 6,
   "metadata": {},
   "outputs": [
    {
     "name": "stdout",
     "output_type": "stream",
     "text": [
      "19225\n"
     ]
    }
   ],
   "source": [
    "print(len(unq_PC_enc))\n",
    "#print(unq_PC_enc.sort_values('F0',ascending=False))\n",
    "#print(np.sum(unq_PC_enc['F0'].to_numpy()))\n",
    "unq_PC_enc.to_csv('PC_lab_results_v3.csv', index=False)"
   ]
  },
  {
   "cell_type": "code",
   "execution_count": 11,
   "metadata": {},
   "outputs": [
    {
     "name": "stdout",
     "output_type": "stream",
     "text": [
      "0     1\n",
      "1     1\n",
      "2     1\n",
      "3     1\n",
      "4     1\n",
      "     ..\n",
      "95    1\n",
      "96    1\n",
      "97    1\n",
      "98    1\n",
      "99    1\n",
      "Name: Lab1, Length: 100, dtype: int64\n"
     ]
    }
   ],
   "source": [
    "print(unq_PC_enc.Lab1.head(100))"
   ]
  },
  {
   "cell_type": "code",
   "execution_count": null,
   "metadata": {},
   "outputs": [],
   "source": []
  },
  {
   "cell_type": "code",
   "execution_count": null,
   "metadata": {},
   "outputs": [],
   "source": []
  },
  {
   "cell_type": "code",
   "execution_count": null,
   "metadata": {},
   "outputs": [],
   "source": []
  },
  {
   "cell_type": "code",
   "execution_count": null,
   "metadata": {},
   "outputs": [],
   "source": []
  },
  {
   "cell_type": "code",
   "execution_count": null,
   "metadata": {},
   "outputs": [],
   "source": []
  },
  {
   "cell_type": "code",
   "execution_count": null,
   "metadata": {},
   "outputs": [],
   "source": []
  },
  {
   "cell_type": "code",
   "execution_count": null,
   "metadata": {},
   "outputs": [],
   "source": []
  }
 ],
 "metadata": {
  "kernelspec": {
   "display_name": "Python 3",
   "language": "python",
   "name": "python3"
  },
  "language_info": {
   "codemirror_mode": {
    "name": "ipython",
    "version": 3
   },
   "file_extension": ".py",
   "mimetype": "text/x-python",
   "name": "python",
   "nbconvert_exporter": "python",
   "pygments_lexer": "ipython3",
   "version": "3.6.6"
  }
 },
 "nbformat": 4,
 "nbformat_minor": 2
}

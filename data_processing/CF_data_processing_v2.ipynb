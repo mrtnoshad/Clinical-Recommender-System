{
 "cells": [
  {
   "cell_type": "markdown",
   "metadata": {},
   "source": [
    "### 61 procedures"
   ]
  },
  {
   "cell_type": "markdown",
   "metadata": {},
   "source": [
    "### Load The Data"
   ]
  },
  {
   "cell_type": "code",
   "execution_count": 18,
   "metadata": {},
   "outputs": [
    {
     "name": "stdout",
     "output_type": "stream",
     "text": [
      "(5500, 62) (5500, 62) (1321, 62)\n"
     ]
    }
   ],
   "source": [
    "# example: read from BigQuery chart to numpy\n",
    "from google.cloud import bigquery\n",
    "from google.cloud.bigquery import dbapi;\n",
    "import numpy as np\n",
    "import pandas as pd\n",
    "\n",
    "# Retrieve train and test\n",
    "data_train = pd.read_csv('data_train.csv')\n",
    "data_test = pd.read_csv('data_test.csv')\n",
    "\n",
    "#print(data_train.columns[0])\n",
    "#C1 = [data_train.columns[0]]+list(data_train.columns[314:375])\n",
    "#print(C1)\n",
    "\n",
    "# separate PCP and SP \"procedure\" data\n",
    "PC_train = data_train[[data_train.columns[0]]+list(data_train.columns[314:375])]\n",
    "PC_test = data_test[[data_test.columns[0]] + list(data_test.columns[314:375])]\n",
    "SP_train = data_train[[data_train.columns[0]]+ list(data_train.columns[407:])]\n",
    "\n",
    "print(PC_train.shape, SP_train.shape, PC_test.shape)\n",
    "\n",
    "\n"
   ]
  },
  {
   "cell_type": "markdown",
   "metadata": {},
   "source": [
    "## Melt the data "
   ]
  },
  {
   "cell_type": "code",
   "execution_count": 52,
   "metadata": {},
   "outputs": [
    {
     "name": "stdout",
     "output_type": "stream",
     "text": [
      "[131016267790 131038807665 131024807744 131230637158 131066261155\n",
      " 131039491495 131039363870 131026389462 131023253397 131039772106]\n",
      "[]\n",
      "[]\n",
      "[]\n"
     ]
    }
   ],
   "source": [
    "PC_train_rating = pd.melt(PC_train, id_vars=['PC_enc'], value_vars=PC_train.columns[1:]).rename(columns={'variable':'Proc', 'value': 'rating'}).sort_values(['PC_enc','Proc'])\n",
    "PC_test_rating = pd.melt(PC_test, id_vars=['PC_enc'], value_vars=PC_test.columns[1:]).rename(columns={'variable':'Proc', 'value': 'rating'}).sort_values(['PC_enc','Proc'])\n",
    "SP_train_rating = pd.melt(SP_train, id_vars=['PC_enc'], value_vars=SP_train.columns[1:]).rename(columns={'variable':'Proc', 'value': 'rating'}).sort_values(['PC_enc','Proc'])\n",
    "\n",
    "# drop duplicates\n",
    "PC_train_rating.drop_duplicates(inplace=True)\n",
    "PC_test_rating.drop_duplicates(inplace=True)\n",
    "SP_train_rating.drop_duplicates(inplace=True)\n",
    "\n",
    "\n",
    "\n",
    "#################\n",
    "# Test to see if converting back gives the same feature map\n",
    "# turn back df2_test \n",
    "PC_train_feature = PC_train_rating.pivot(index='PC_enc', columns='Proc', values='rating').fillna(0.0).reset_index()[PC_train.columns]\n",
    "\n",
    "# test enc:\n",
    "enc = 131261087497\n",
    "\n",
    "print(PC_train.PC_enc.unique()[:10])\n",
    "print(PC_train_feature[PC_train_feature.PC_enc==enc].to_numpy())\n",
    "print(PC_train[PC_train.PC_enc==enc].to_numpy())\n",
    "# test specialty procedures\n",
    "#print(SP_train_feature[SP_train_feature.PC_enc==enc].to_numpy())\n",
    "print(SP_train[SP_train.PC_enc==enc].to_numpy())\n",
    "\n",
    "\n",
    "#print(PC_test_rating[PC_test_rating.PC_enc==131049295970].head(10))"
   ]
  },
  {
   "cell_type": "markdown",
   "metadata": {},
   "source": [
    "### Save the train rating file"
   ]
  },
  {
   "cell_type": "code",
   "execution_count": 54,
   "metadata": {},
   "outputs": [
    {
     "name": "stdout",
     "output_type": "stream",
     "text": [
      "         PC_enc    Proc  rating\n",
      "4326   16116015  F0_y_x       0\n",
      "59326  16116015   F10_x       1\n",
      "64826  16116015   F11_x       0\n",
      "70326  16116015   F12_x       0\n",
      "75826  16116015   F13_x       0\n"
     ]
    }
   ],
   "source": [
    "### Join the tables \n",
    "df_train = pd.concat([PC_train_rating, PC_test_rating, SP_train_rating])\n",
    "\n",
    "print(df_train.head())\n",
    "df_train.to_csv('CF_data_train.csv', index=False)\n",
    "PC_test_rating.to_csv('CF_data_test.csv', index=False)\n",
    "#df2_test.to_csv('CF_data_test.csv', index=False)"
   ]
  },
  {
   "cell_type": "code",
   "execution_count": null,
   "metadata": {},
   "outputs": [],
   "source": []
  },
  {
   "cell_type": "code",
   "execution_count": null,
   "metadata": {},
   "outputs": [],
   "source": []
  },
  {
   "cell_type": "code",
   "execution_count": null,
   "metadata": {},
   "outputs": [],
   "source": []
  },
  {
   "cell_type": "code",
   "execution_count": null,
   "metadata": {},
   "outputs": [],
   "source": []
  },
  {
   "cell_type": "code",
   "execution_count": null,
   "metadata": {},
   "outputs": [],
   "source": []
  },
  {
   "cell_type": "code",
   "execution_count": null,
   "metadata": {},
   "outputs": [],
   "source": []
  },
  {
   "cell_type": "code",
   "execution_count": null,
   "metadata": {},
   "outputs": [],
   "source": [
    "### OL"
   ]
  },
  {
   "cell_type": "code",
   "execution_count": 77,
   "metadata": {},
   "outputs": [
    {
     "name": "stdout",
     "output_type": "stream",
     "text": [
      "              PC_enc Proc  rating\n",
      "333646  131019933415  F35       0\n",
      "89870   131019933415   F9       0\n",
      "80494   131019933415   F8       0\n",
      "14862   131019933415   F1       0\n",
      "127374  131019933415  F13       0\n",
      "              PC_enc Proc  rating\n",
      "406969  131019933415  F43       0\n",
      "50681   131019933415   F5       0\n",
      "41305   131019933415   F4       0\n",
      "378841  131019933415  F40       0\n",
      "388217  131019933415  F41       0\n",
      "              PC_enc Proc  rating\n",
      "142592  131261087497  F15       0\n",
      "255104  131261087497  F27       1\n",
      "283232  131261087497  F30       0\n",
      "151968  131261087497  F16       0\n",
      "133216  131261087497  F14       0\n"
     ]
    }
   ],
   "source": [
    "# sort the rows\n",
    "#df_1 = PC_melt.sort_values('PC_enc',ascending=False)\n",
    "#df_2 = SP_melt.sort_values('PC_enc',ascending=False)\n",
    "\n",
    "\n",
    "\n",
    "# train and test\n",
    "n_train = int(len(df_1)*0.8)\n",
    "n_test = int(len(df_1)*0.2)\n",
    "\n",
    "df1_train = df_1.head(n_train)\n",
    "df1_test = df_1.tail(n_test)\n",
    "\n",
    "\n",
    "df2_train = df_2.head(n_train)\n",
    "df2_test = df_2.tail(n_test)\n",
    "\n",
    "\n",
    "print(df1_test.head())\n",
    "print(df2_test.head())\n",
    "\n",
    "### Join the tables \n",
    "df_train = pd.concat([df1_train, df1_test, df2_train])\n",
    "\n",
    "df_train.to_csv('CF_data_train.csv', index=False)\n",
    "df2_test.to_csv('CF_data_test.csv', index=False)\n",
    "\n",
    "\n",
    "print(df_train.head())"
   ]
  },
  {
   "cell_type": "code",
   "execution_count": 68,
   "metadata": {},
   "outputs": [],
   "source": [
    "SP_melt.to_csv('CF_data_all.csv', index=False)"
   ]
  },
  {
   "cell_type": "code",
   "execution_count": 82,
   "metadata": {},
   "outputs": [
    {
     "name": "stdout",
     "output_type": "stream",
     "text": [
      "Proc    PC_enc   F0   F1  F10  F11  F12  F13  F14  F15  F16  ...  F55  F56  \\\n",
      "0     16116015  0.0  0.0  0.0  0.0  0.0  0.0  0.0  0.0  0.0  ...  0.0  0.0   \n",
      "1     16175218  0.0  0.0  0.0  0.0  0.0  0.0  0.0  0.0  0.0  ...  0.0  0.0   \n",
      "2     16494386  0.0  0.0  0.0  0.0  0.0  0.0  0.0  0.0  0.0  ...  0.0  0.0   \n",
      "3     16591046  1.0  0.0  0.0  0.0  1.0  1.0  0.0  0.0  0.0  ...  0.0  0.0   \n",
      "4     16927888  0.0  0.0  0.0  0.0  0.0  0.0  0.0  0.0  0.0  ...  0.0  0.0   \n",
      "\n",
      "Proc  F57  F58  F59   F6  F60   F7   F8   F9  \n",
      "0     0.0  0.0  0.0  0.0  0.0  0.0  0.0  0.0  \n",
      "1     0.0  0.0  0.0  0.0  0.0  0.0  0.0  0.0  \n",
      "2     0.0  0.0  0.0  0.0  0.0  0.0  0.0  0.0  \n",
      "3     0.0  0.0  0.0  0.0  0.0  0.0  0.0  0.0  \n",
      "4     0.0  0.0  0.0  0.0  0.0  0.0  0.0  0.0  \n",
      "\n",
      "[5 rows x 62 columns]\n",
      "Index(['PC_enc', 'F0', 'F1', 'F10', 'F11', 'F12', 'F13', 'F14', 'F15', 'F16',\n",
      "       'F17', 'F18', 'F19', 'F2', 'F20', 'F21', 'F22', 'F23', 'F24', 'F25',\n",
      "       'F26', 'F27', 'F28', 'F29', 'F3', 'F30', 'F31', 'F32', 'F33', 'F34',\n",
      "       'F35', 'F36', 'F37', 'F38', 'F39', 'F4', 'F40', 'F41', 'F42', 'F43',\n",
      "       'F44', 'F45', 'F46', 'F47', 'F48', 'F49', 'F5', 'F50', 'F51', 'F52',\n",
      "       'F53', 'F54', 'F55', 'F56', 'F57', 'F58', 'F59', 'F6', 'F60', 'F7',\n",
      "       'F8', 'F9'],\n",
      "      dtype='object', name='Proc')\n",
      "0.43017057569296374\n"
     ]
    }
   ],
   "source": [
    "# turn back df2_test \n",
    "SP_test = df2_test.pivot(index='PC_enc', columns='Proc', values='rating')\n",
    "SP_test = SP_test.fillna(0.0)\n",
    "SP_test = SP_test.reset_index()\n",
    "print(SP_test.head())\n",
    "\n",
    "print(SP_test.columns)\n",
    "SP_test.to_csv('CF_SP_test.csv', index=False)\n",
    "print(SP_test['F1'].mean())\n",
    "\n"
   ]
  },
  {
   "cell_type": "code",
   "execution_count": null,
   "metadata": {},
   "outputs": [],
   "source": []
  },
  {
   "cell_type": "code",
   "execution_count": null,
   "metadata": {},
   "outputs": [],
   "source": []
  },
  {
   "cell_type": "code",
   "execution_count": null,
   "metadata": {},
   "outputs": [],
   "source": []
  },
  {
   "cell_type": "code",
   "execution_count": null,
   "metadata": {},
   "outputs": [],
   "source": []
  },
  {
   "cell_type": "code",
   "execution_count": null,
   "metadata": {},
   "outputs": [],
   "source": []
  },
  {
   "cell_type": "code",
   "execution_count": null,
   "metadata": {},
   "outputs": [],
   "source": []
  },
  {
   "cell_type": "code",
   "execution_count": null,
   "metadata": {},
   "outputs": [],
   "source": []
  },
  {
   "cell_type": "code",
   "execution_count": 81,
   "metadata": {},
   "outputs": [
    {
     "name": "stdout",
     "output_type": "stream",
     "text": [
      "Proc    PC_enc   F0   F1  F10  F11  F12  F13  F14  F15  F16  ...  F55  F56  \\\n",
      "0     16116015  0.0  0.0  1.0  0.0  0.0  0.0  0.0  0.0  0.0  ...  0.0  0.0   \n",
      "1     16175218  0.0  0.0  0.0  0.0  0.0  0.0  0.0  0.0  0.0  ...  0.0  0.0   \n",
      "2     16494386  1.0  1.0  0.0  0.0  0.0  0.0  0.0  1.0  0.0  ...  0.0  0.0   \n",
      "3     16591046  0.0  0.0  0.0  0.0  0.0  0.0  0.0  0.0  0.0  ...  0.0  0.0   \n",
      "4     16927888  0.0  0.0  0.0  0.0  0.0  0.0  0.0  0.0  0.0  ...  0.0  0.0   \n",
      "\n",
      "Proc  F57  F58  F59   F6  F60   F7   F8   F9  \n",
      "0     0.0  0.0  0.0  0.0  0.0  0.0  0.0  0.0  \n",
      "1     0.0  0.0  0.0  0.0  0.0  0.0  0.0  0.0  \n",
      "2     0.0  0.0  0.0  0.0  0.0  0.0  0.0  0.0  \n",
      "3     0.0  0.0  0.0  0.0  0.0  0.0  0.0  0.0  \n",
      "4     0.0  0.0  0.0  0.0  0.0  0.0  0.0  0.0  \n",
      "\n",
      "[5 rows x 62 columns]\n",
      "Index(['PC_enc', 'F0', 'F1', 'F10', 'F11', 'F12', 'F13', 'F14', 'F15', 'F16',\n",
      "       'F17', 'F18', 'F19', 'F2', 'F20', 'F21', 'F22', 'F23', 'F24', 'F25',\n",
      "       'F26', 'F27', 'F28', 'F29', 'F3', 'F30', 'F31', 'F32', 'F33', 'F34',\n",
      "       'F35', 'F36', 'F37', 'F38', 'F39', 'F4', 'F40', 'F41', 'F42', 'F43',\n",
      "       'F44', 'F45', 'F46', 'F47', 'F48', 'F49', 'F5', 'F50', 'F51', 'F52',\n",
      "       'F53', 'F54', 'F55', 'F56', 'F57', 'F58', 'F59', 'F6', 'F60', 'F7',\n",
      "       'F8', 'F9'],\n",
      "      dtype='object', name='Proc')\n",
      "0.10341151385927505\n"
     ]
    }
   ],
   "source": [
    "## Draft\n",
    "\n",
    "# turn back df2_test \n",
    "PC_test = df1_test.pivot(index='PC_enc', columns='Proc', values='rating')\n",
    "PC_test.fillna(0.0)\n",
    "PC_test = PC_test.reset_index()\n",
    "print(PC_test.head())\n",
    "\n",
    "print(PC_test.columns)\n",
    "PC_test.to_csv('CF_PC_test.csv', index=False)\n",
    "print(PC_test['F1'].mean())\n"
   ]
  },
  {
   "cell_type": "code",
   "execution_count": null,
   "metadata": {},
   "outputs": [],
   "source": []
  },
  {
   "cell_type": "code",
   "execution_count": null,
   "metadata": {},
   "outputs": [],
   "source": []
  },
  {
   "cell_type": "code",
   "execution_count": null,
   "metadata": {},
   "outputs": [],
   "source": []
  },
  {
   "cell_type": "code",
   "execution_count": null,
   "metadata": {},
   "outputs": [],
   "source": []
  },
  {
   "cell_type": "code",
   "execution_count": 8,
   "metadata": {},
   "outputs": [
    {
     "name": "stdout",
     "output_type": "stream",
     "text": [
      "  variable  value\n",
      "0        a      1\n",
      "1        a      2\n",
      "2        b      0\n",
      "3        b      4\n",
      "4        c      8\n",
      "5        c     10\n",
      "6        d    111\n",
      "7        d    222\n"
     ]
    }
   ],
   "source": [
    "# test melt\n",
    "tt = pd.DataFrame({'a': [1,2], 'b': [0, 4], 'c':[8,10],'d':[111,222]})\n",
    "print(pd.melt(tt))"
   ]
  },
  {
   "cell_type": "code",
   "execution_count": null,
   "metadata": {},
   "outputs": [],
   "source": []
  },
  {
   "cell_type": "code",
   "execution_count": null,
   "metadata": {},
   "outputs": [],
   "source": []
  },
  {
   "cell_type": "code",
   "execution_count": null,
   "metadata": {},
   "outputs": [],
   "source": []
  },
  {
   "cell_type": "code",
   "execution_count": null,
   "metadata": {},
   "outputs": [],
   "source": []
  },
  {
   "cell_type": "code",
   "execution_count": null,
   "metadata": {},
   "outputs": [],
   "source": []
  },
  {
   "cell_type": "code",
   "execution_count": null,
   "metadata": {},
   "outputs": [],
   "source": []
  },
  {
   "cell_type": "code",
   "execution_count": null,
   "metadata": {},
   "outputs": [],
   "source": []
  },
  {
   "cell_type": "markdown",
   "metadata": {},
   "source": [
    "### Choose only specific proc names"
   ]
  },
  {
   "cell_type": "code",
   "execution_count": 4,
   "metadata": {},
   "outputs": [
    {
     "name": "stdout",
     "output_type": "stream",
     "text": [
      "61\n"
     ]
    }
   ],
   "source": [
    "\n",
    "Top_proc_names = [ 'TSH', 'T4','25-HYDROXYVITAMIN','1 25 OH VITAMIN D','METABOLIC PANEL','HEMOGLOBIN','PARATHYROID','CORTISOL' ,'TPO AB','PHOSPHORUS',\n",
    "            'CREATININE','PROLACTIN','US THYROID','CALCIUM','FSH','T3','ADRENOCORTICOTROPIC','LIPID PANEL','LUTEINIZING',\n",
    "            'BONE ALKALINE','IGA','PEPTIDE','DXA ADULT','TESTOSTERONE','HGB','MAGNESIUM','IMMUNOGLOBULIN','COLLAGEN TYPE',\n",
    "            'ALBUMIN', 'THYROGLOBULIN','VITAMIN B12','CBC','DEHYDROEPIANDROSTERONE','ESTRADIOL','BONE DENSITY','INSULIN-LIKE GROWTH FACTOR 1',\n",
    "            'METANEPHRINES','ALDOSTERONE','HEPATIC','THYROGLOBULIN','US HEAD NECK SOFT TISSUE','URINE PROTEIN','RENIN','ALT',\n",
    "            'FERRITIN','NTX TELOPEPTIDE','PROTEIN IMMUNOFIX ELECTROPHORESIS','CELIAC DISEASE SCREEN','NON-GYN CYTOLOGY EXAM','URIC ACID',\n",
    "            'AST','T-TRANSGLUTAMINASE','GAD','17OH PROG','FRUCTOSAMINE','SEX HORMONE BINDING GLOBULIN','SURVEY FOR METASTATIC THYROID CANCER',\n",
    "            'CATECHOLAMINES','NUC 131I WHOLE BODY POST THERAPY SCAN', 'GLUCOSE NON-FASTING','TRANSFERRIN SATURATION'\n",
    "]\n",
    "\n",
    "N_proc = len(Top_proc_names)\n",
    "print(N_proc)\n",
    "                  \n"
   ]
  },
  {
   "cell_type": "markdown",
   "metadata": {},
   "source": [
    "### filter the data"
   ]
  },
  {
   "cell_type": "code",
   "execution_count": 10,
   "metadata": {},
   "outputs": [
    {
     "name": "stdout",
     "output_type": "stream",
     "text": [
      "Index(['jc_uid', 'PC_enc', 'PC_app_datetime', 'PC_ref_datetime', 'SP_enc',\n",
      "       'SP_app_datetime', 'order_type', 'proc_id', 'proc_name',\n",
      "       'proc_order_time'],\n",
      "      dtype='object')\n",
      "Index(['jc_uid', 'PC_enc', 'PC_app_datetime', 'PC_ref_datetime', 'SP_enc',\n",
      "       'SP_app_datetime', 'order_type', 'proc_id', 'proc_name',\n",
      "       'proc_order_time', 'prov_id'],\n",
      "      dtype='object')\n",
      "98.36065573770492%%"
     ]
    }
   ],
   "source": [
    "import sys\n",
    "\n",
    "print(df_all1.columns)\n",
    "print(df_all2.columns)\n",
    "\n",
    "# drop unnecessary columns\n",
    "d1 = df_all1[['PC_enc', 'proc_name', 'PC_app_datetime']]\n",
    "d2 = df_all2[['PC_enc', 'proc_name', 'PC_app_datetime']]\n",
    "\n",
    "\n",
    "df_1 = d1[d1['proc_name'].str.contains(Top_proc_names[0])]\n",
    "df_2 = d2[d2['proc_name'].str.contains(Top_proc_names[0])]\n",
    "\n",
    "# filter the data\n",
    "for i in range(1, N_proc):\n",
    "    df_1 = pd.concat([ df_1, d1[ d1['proc_name'].str.contains(Top_proc_names[i])] ])\n",
    "    df_2 = pd.concat([ df_2, d2[ d2['proc_name'].str.contains(Top_proc_names[i])] ])   \n",
    "\n",
    "    # report i \n",
    "    sys.stdout.write('\\r')\n",
    "    sys.stdout.write(str(i/N_proc*100)+'%')\n",
    "    sys.stdout.flush()"
   ]
  },
  {
   "cell_type": "code",
   "execution_count": 12,
   "metadata": {},
   "outputs": [
    {
     "name": "stdout",
     "output_type": "stream",
     "text": [
      "              PC_enc                            proc_name PC_app_datetime  \\\n",
      "605029  131261087497  COLLAGEN TYPE I C-TELOPEPTIDE (CTX)      2018-11-24   \n",
      "605027  131261087497                    TSH W/ REFLEX FT4      2018-11-24   \n",
      "605027  131261087497                    TSH W/ REFLEX FT4      2018-11-24   \n",
      "605029  131261087497  COLLAGEN TYPE I C-TELOPEPTIDE (CTX)      2018-11-24   \n",
      "605031  131261087497     BONE ALKALINE PHOSPHATASE, SERUM      2018-11-24   \n",
      "\n",
      "        rating  \n",
      "605029       1  \n",
      "605027       1  \n",
      "605027       1  \n",
      "605029       1  \n",
      "605031       1  \n"
     ]
    }
   ],
   "source": [
    "# add all 1 ratings\n",
    "df_1['rating']=1\n",
    "df_2['rating']=1\n",
    "\n",
    "# sort the rows\n",
    "df_1 = df_1.sort_values('PC_enc',ascending=False)\n",
    "df_2 = df_2.sort_values('PC_enc',ascending=False)\n",
    "\n",
    "# drop duplicates\n",
    "df_1.drop_duplicates()\n",
    "df_2.drop_duplicates()\n",
    "\n",
    "# train and test\n",
    "n_train = int(len(df_1)*0.8)\n",
    "n_test = int(len(df_1)*0.2)\n",
    "\n",
    "df1_train = df_1.head(n_train)\n",
    "df1_test = df_1.tail(n_test)\n",
    "\n",
    "df2_train = df_2.head(n_train)\n",
    "df2_test = df_2.tail(n_test)\n",
    "\n",
    "### Join the tables \n",
    "df_train = pd.concat([df1_train, df2_train])\n",
    "\n",
    "\n",
    "print(df_train.head())"
   ]
  },
  {
   "cell_type": "markdown",
   "metadata": {},
   "source": [
    "### save the data"
   ]
  },
  {
   "cell_type": "code",
   "execution_count": 13,
   "metadata": {},
   "outputs": [],
   "source": [
    "df_train.to_csv('CF_data_train.csv', index=False)\n",
    "df1_test.to_csv('CF_data_PC_test.csv', index=False)\n",
    "df2_test.to_csv('CF_data_SP_test.csv', index=False)"
   ]
  },
  {
   "cell_type": "code",
   "execution_count": null,
   "metadata": {},
   "outputs": [],
   "source": []
  },
  {
   "cell_type": "code",
   "execution_count": null,
   "metadata": {},
   "outputs": [],
   "source": []
  },
  {
   "cell_type": "code",
   "execution_count": null,
   "metadata": {},
   "outputs": [],
   "source": []
  },
  {
   "cell_type": "code",
   "execution_count": 10,
   "metadata": {},
   "outputs": [
    {
     "name": "stdout",
     "output_type": "stream",
     "text": [
      "REFERRAL TO ENDOCRINE CLINIC\n",
      "REFERRAL TO ENDOCRINOLOGY\n",
      "METABOLIC PANEL, COMPREHENSIVE\n",
      "DISCHARGE DIET\n",
      "FOLLOW UP INSTRUCTIONS\n",
      "TSH\n",
      "PHYSICAL ACTIVITY\n",
      "REASON TO CALL YOUR PHYSICIAN\n",
      "HEMOGLOBIN A1C\n",
      "ADDITIONAL INSTRUCTIONS\n",
      "INTERAGENCY REFERRAL TO HOME HEALTH/ADDENDUM TO CERTIFICATION\n",
      "DISCHARGE MD TO CALL FOR QUESTIONS\n",
      "CBC WITH DIFFERENTIAL\n",
      "LIPID PANEL WITH CALCULATED LDL\n",
      "T4, FREE\n",
      "VITAMIN D, 25-HYDROXYVITAMIN\n",
      "PT EVALUATE AND TREAT\n",
      "DISCHARGE WOUND CARE\n",
      "METABOLIC PANEL, BASIC\n",
      "ALBUMIN WITH CREATININE, URINE (RANDOM)\n"
     ]
    }
   ],
   "source": [
    "N_proc = 20\n",
    "df_n = df_all[['PC_enc', 'proc_name']]\n",
    "temp_df = df_n.groupby(['proc_name']).apply(len).reset_index().rename(columns={'proc_name':'proc_name', 0:'num'}) #, as_index=False  \n",
    "T = temp_df.sort_values('num',ascending=False).head(N_proc)['proc_name'].to_numpy()\n",
    "for i in range(N_proc):\n",
    "    print(T[i])\n",
    "\n"
   ]
  },
  {
   "cell_type": "markdown",
   "metadata": {},
   "source": [
    "### Remove unnecessary columns and rows"
   ]
  },
  {
   "cell_type": "code",
   "execution_count": 11,
   "metadata": {},
   "outputs": [
    {
     "name": "stdout",
     "output_type": "stream",
     "text": [
      "     jc_uid    PC_enc     PC_app_datetime     PC_ref_datetime    SP_enc  \\\n",
      "0  JCde3c18  15485327 2008-05-11 08:30:00 2008-05-11 09:03:00  15831299   \n",
      "1  JCde3c18  15485327 2008-05-11 08:30:00 2008-05-11 09:03:00  15831299   \n",
      "2  JCde3c18  15485327 2008-05-11 08:30:00 2008-05-11 09:03:00  15831299   \n",
      "3  JCde3c18  15485327 2008-05-11 08:30:00 2008-05-11 09:03:00  15831299   \n",
      "4  JCe28c64  15495377 2008-05-12 00:00:00 2008-05-12 18:05:00  15574109   \n",
      "\n",
      "      SP_app_datetime           order_type  proc_id  \\\n",
      "0 2008-06-22 10:00:00  Outpatient Referral    34378   \n",
      "1 2008-06-22 10:00:00  Outpatient Referral    34378   \n",
      "2 2008-06-22 10:00:00            Pathology   152948   \n",
      "3 2008-06-22 10:00:00            Pathology   152948   \n",
      "4 2008-05-26 10:00:00  Outpatient Referral    34378   \n",
      "\n",
      "                           proc_name     proc_order_time  \n",
      "0          REFERRAL TO ENDOCRINOLOGY 2008-05-11 09:03:00  \n",
      "1          REFERRAL TO ENDOCRINOLOGY 2008-05-11 09:03:00  \n",
      "2  GYN CYTOLOGY - PAP SMEAR SPECIMEN 2008-05-11 09:08:00  \n",
      "3  GYN CYTOLOGY - PAP SMEAR SPECIMEN 2008-05-11 09:08:00  \n",
      "4          REFERRAL TO ENDOCRINOLOGY 2008-05-12 18:05:00  \n",
      "     PC_enc  proc_id\n",
      "0  15485327    34378\n",
      "2  15485327   152948\n",
      "4  15495377    34378\n",
      "5  15495377     2965\n",
      "6  15567876    34378\n"
     ]
    }
   ],
   "source": [
    "print(df_all.head())\n",
    "\n",
    "# only take PC_enc and proc_id\n",
    "df = df_all[['PC_enc', 'proc_id']]\n",
    "\n",
    "# remove duplicate rows:\n",
    "df = df.drop_duplicates()\n",
    "\n",
    "print(df.head())"
   ]
  },
  {
   "cell_type": "markdown",
   "metadata": {},
   "source": [
    "### Create the table of unique encounter id"
   ]
  },
  {
   "cell_type": "code",
   "execution_count": 12,
   "metadata": {},
   "outputs": [
    {
     "name": "stdout",
     "output_type": "stream",
     "text": [
      "             PC_enc  num_unq_proc\n",
      "11376  131254053493            45\n",
      "7011   131194225005            45\n",
      "4809   131058257208            39\n",
      "1890   131016182730            37\n",
      "11024  131251209104            37\n",
      "All of the encounters with at least one proc order:  12067\n",
      "Average order per encounter:  3.7045661722051877\n",
      "Min order per encounter:  1\n",
      "Max order per encounter:  45\n"
     ]
    }
   ],
   "source": [
    "unq_PC_enc = df.groupby(['PC_enc']).apply(len).reset_index().rename(columns={'proc_id':'proc_id', 0:'num_unq_proc'}).sort_values('num_unq_proc',ascending=False)  \n",
    "print(unq_PC_enc.head())\n",
    "print('All of the encounters with at least one proc order: ',len(unq_PC_enc))\n",
    "print('Average order per encounter: ', np.mean(unq_PC_enc.num_unq_proc.to_numpy()))\n",
    "print('Min order per encounter: ', np.min(unq_PC_enc.num_unq_proc.to_numpy()))\n",
    "print('Max order per encounter: ', np.max(unq_PC_enc.num_unq_proc.to_numpy()))"
   ]
  },
  {
   "cell_type": "markdown",
   "metadata": {},
   "source": [
    "### Choose only specific proc names"
   ]
  },
  {
   "cell_type": "code",
   "execution_count": 13,
   "metadata": {},
   "outputs": [
    {
     "name": "stdout",
     "output_type": "stream",
     "text": [
      "61\n"
     ]
    }
   ],
   "source": [
    "\n",
    "Top_proc_names = [ 'TSH', 'T4','25-HYDROXYVITAMIN','1 25 OH VITAMIN D','METABOLIC PANEL','HEMOGLOBIN','PARATHYROID','CORTISOL' ,'TPO AB','PHOSPHORUS',\n",
    "            'CREATININE','PROLACTIN','US THYROID','CALCIUM','FSH','T3','ADRENOCORTICOTROPIC','LIPID PANEL','LUTEINIZING',\n",
    "            'BONE ALKALINE','IGA','PEPTIDE','DXA ADULT','TESTOSTERONE','HGB','MAGNESIUM','IMMUNOGLOBULIN','COLLAGEN TYPE',\n",
    "            'ALBUMIN', 'THYROGLOBULIN','VITAMIN B12','CBC','DEHYDROEPIANDROSTERONE','ESTRADIOL','BONE DENSITY','INSULIN-LIKE GROWTH FACTOR 1',\n",
    "            'METANEPHRINES','ALDOSTERONE','HEPATIC','THYROGLOBULIN','US HEAD NECK SOFT TISSUE','URINE PROTEIN','RENIN','ALT',\n",
    "            'FERRITIN','NTX TELOPEPTIDE','PROTEIN IMMUNOFIX ELECTROPHORESIS','CELIAC DISEASE SCREEN','NON-GYN CYTOLOGY EXAM','URIC ACID',\n",
    "            'AST','T-TRANSGLUTAMINASE','GAD','17OH PROG','FRUCTOSAMINE','SEX HORMONE BINDING GLOBULIN','SURVEY FOR METASTATIC THYROID CANCER',\n",
    "            'CATECHOLAMINES','NUC 131I WHOLE BODY POST THERAPY SCAN', 'GLUCOSE NON-FASTING','TRANSFERRIN SATURATION'\n",
    "]\n",
    "\n",
    "N_proc = len(Top_proc_names)\n",
    "print(N_proc)\n",
    "                  \n",
    "                  "
   ]
  },
  {
   "cell_type": "markdown",
   "metadata": {},
   "source": [
    "### Create Feature Matrix of Lab Results"
   ]
  },
  {
   "cell_type": "code",
   "execution_count": 14,
   "metadata": {},
   "outputs": [
    {
     "name": "stdout",
     "output_type": "stream",
     "text": [
      "98.36065573770492%%         PC_enc  num_unq_proc  F0  F1  F2  F3  F4  F5  F6  F7  ...  F51  F52  \\\n",
      "0  131254053493            45   1   0   0   0   1   1   0   0  ...    0    0   \n",
      "1  131194225005            45   0   0   1   0   1   0   0   1  ...    0    1   \n",
      "2  131058257208            39   1   0   0   1   1   0   0   0  ...    0    0   \n",
      "3  131016182730            37   0   0   0   0   1   0   0   0  ...    0    0   \n",
      "4  131251209104            37   1   1   0   0   0   1   0   0  ...    0    0   \n",
      "\n",
      "   F53  F54  F55  F56  F57  F58  F59  F60  \n",
      "0    0    0    0    0    0    0    0    0  \n",
      "1    0    0    0    0    0    0    0    0  \n",
      "2    0    0    0    0    0    0    0    0  \n",
      "3    0    0    0    0    0    0    0    1  \n",
      "4    0    0    0    0    0    0    0    1  \n",
      "\n",
      "[5 rows x 63 columns]\n"
     ]
    }
   ],
   "source": [
    "import sys\n",
    "\n",
    "for i in range(N_proc):\n",
    "    \n",
    "    # define the search function\n",
    "    def my_func(df):\n",
    "        return int(len(df[df['proc_name'].str.contains(Top_proc_names[i])])>0)\n",
    "    \n",
    "    #def my_func(df):\n",
    "    #    return int(len(df[df['proc_name'].str.contains(Top_proc_names[i])])>0)\n",
    "    \n",
    "    F_df = df_n.groupby(['PC_enc']).apply(my_func).reset_index().rename(columns={'PC_enc':'PC_enc', 0:'F'+str(i)}) \n",
    "    unq_PC_enc = pd.merge(unq_PC_enc, F_df, how='left', on='PC_enc')\n",
    "    \n",
    "    # report i \n",
    "    sys.stdout.write('\\r')\n",
    "    sys.stdout.write(str(i/N_proc*100)+'%')\n",
    "    sys.stdout.flush()\n",
    "\n",
    "\n",
    "print(unq_PC_enc.head())\n"
   ]
  },
  {
   "cell_type": "markdown",
   "metadata": {},
   "source": [
    "### Save the Results into CSV"
   ]
  },
  {
   "cell_type": "code",
   "execution_count": 15,
   "metadata": {},
   "outputs": [
    {
     "name": "stdout",
     "output_type": "stream",
     "text": [
      "12067\n"
     ]
    }
   ],
   "source": [
    "print(len(unq_PC_enc))\n",
    "#print(unq_PC_enc.sort_values('F0',ascending=False))\n",
    "#print(np.sum(unq_PC_enc['F0'].to_numpy()))\n",
    "unq_PC_enc.to_csv('PC_proc.csv', index=False)"
   ]
  },
  {
   "cell_type": "code",
   "execution_count": null,
   "metadata": {},
   "outputs": [],
   "source": []
  },
  {
   "cell_type": "code",
   "execution_count": null,
   "metadata": {},
   "outputs": [],
   "source": []
  },
  {
   "cell_type": "code",
   "execution_count": null,
   "metadata": {},
   "outputs": [],
   "source": []
  },
  {
   "cell_type": "code",
   "execution_count": null,
   "metadata": {},
   "outputs": [],
   "source": []
  },
  {
   "cell_type": "code",
   "execution_count": null,
   "metadata": {},
   "outputs": [],
   "source": []
  },
  {
   "cell_type": "code",
   "execution_count": null,
   "metadata": {},
   "outputs": [],
   "source": []
  },
  {
   "cell_type": "code",
   "execution_count": null,
   "metadata": {},
   "outputs": [],
   "source": []
  },
  {
   "cell_type": "code",
   "execution_count": null,
   "metadata": {},
   "outputs": [],
   "source": []
  }
 ],
 "metadata": {
  "kernelspec": {
   "display_name": "Python 3",
   "language": "python",
   "name": "python3"
  },
  "language_info": {
   "codemirror_mode": {
    "name": "ipython",
    "version": 3
   },
   "file_extension": ".py",
   "mimetype": "text/x-python",
   "name": "python",
   "nbconvert_exporter": "python",
   "pygments_lexer": "ipython3",
   "version": "3.6.6"
  }
 },
 "nbformat": 4,
 "nbformat_minor": 2
}

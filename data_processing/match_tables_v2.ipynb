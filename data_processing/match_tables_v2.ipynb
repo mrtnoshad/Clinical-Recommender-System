{
 "cells": [
  {
   "cell_type": "code",
   "execution_count": 41,
   "metadata": {},
   "outputs": [],
   "source": [
    "# example: read from BigQuery chart to numpy\n",
    "from google.cloud import bigquery\n",
    "from google.cloud.bigquery import dbapi;\n",
    "import numpy as np\n",
    "import pandas as pd\n"
   ]
  },
  {
   "cell_type": "markdown",
   "metadata": {},
   "source": [
    "### Load tables"
   ]
  },
  {
   "cell_type": "code",
   "execution_count": 45,
   "metadata": {},
   "outputs": [
    {
     "name": "stdout",
     "output_type": "stream",
     "text": [
      "         PC_enc  num_unq_proc  F0  F1  F2  F3  F4  F5  F6  F7  F8  F9\n",
      "0  131016267790           177   1   1   1   1   0   0   0   0   0   0\n",
      "1  131038807665           107   0   0   0   0   0   0   0   0   0   0\n",
      "2  131064987703           105   1   0   0   0   0   0   0   0   0   0\n",
      "3  131082127660           104   0   0   0   0   0   0   0   0   0   0\n",
      "4  131020018602            98   1   0   0   1   0   1   0   0   0   0\n",
      "         PC_enc  num_unq_proc  F0  F1  F2  F3  F4  F5  F6  F7  ...  F12  F13  \\\n",
      "0  131167856697            41   1   0   1   0   1   1   0   0  ...    0    0   \n",
      "1  131229230099            28   0   0   1   0   0   0   0   0  ...    0    0   \n",
      "2  131048548315            28   0   0   0   0   1   0   1   0  ...    0    0   \n",
      "3  131091604362            25   0   0   1   0   0   0   0   0  ...    0    0   \n",
      "4  131243949605            24   0   0   1   0   0   1   1   0  ...    0    0   \n",
      "\n",
      "   F14  F15  F16  F17  F18  F19  F20  F21  \n",
      "0    0    0    0    0    0    0    0    0  \n",
      "1    0    0    0    0    0    0    0    0  \n",
      "2    0    0    0    0    0    0    0    0  \n",
      "3    0    0    0    0    0    0    0    0  \n",
      "4    0    0    0    0    0    0    0    0  \n",
      "\n",
      "[5 rows x 24 columns]\n",
      "         PC_enc  num_unq_proc  Lab0  Low0  High0  Lab1  Low1  High1  Lab2  \\\n",
      "0  131082462259            91     1     0      1     1     0      0     1   \n",
      "1  131066588148            88     1     0      0     1     0      0     1   \n",
      "2  131118829796            84     1     0      1     1     0      0     1   \n",
      "3  131097590735            84     1     0      0     1     0      0     1   \n",
      "4  131202280593            84     1     0      0     1     0      0     1   \n",
      "\n",
      "   Low2  ...  High96  Lab97  Low97  High97  Lab98  Low98  High98  Lab99  \\\n",
      "0     0  ...       1      1      1       0      1      0       0      1   \n",
      "1     0  ...       1      0      0       0      0      0       0      1   \n",
      "2     0  ...       1      1      1       0      1      0       0      0   \n",
      "3     0  ...       1      1      0       0      1      0       0      0   \n",
      "4     0  ...       1      1      0       0      1      0       0      1   \n",
      "\n",
      "   Low99  High99  \n",
      "0      0       0  \n",
      "1      0       0  \n",
      "2      0       0  \n",
      "3      0       0  \n",
      "4      0       0  \n",
      "\n",
      "[5 rows x 302 columns]\n",
      "         PC_enc  num_unq_proc  F0_x  P0  P1  P2  P3  P4  P5  P6  ...  F51  \\\n",
      "0  131094507503            32     0   0   1   0   0   0   0   0  ...    0   \n",
      "1  131049295970            30     0   0   1   0   0   0   0   0  ...    0   \n",
      "2  131182751483            28     0   0   1   0   0   0   0   0  ...    0   \n",
      "3  131126530538            27     0   0   1   0   0   0   0   0  ...    0   \n",
      "4  131033859921            27     0   0   1   0   0   0   0   0  ...    0   \n",
      "\n",
      "   F52  F53  F54  F55  F56  F57  F58  F59  F60  \n",
      "0    0    0    0    0    0    0    0    0    0  \n",
      "1    0    0    0    0    0    0    0    0    0  \n",
      "2    0    0    0    0    0    0    0    0    1  \n",
      "3    0    1    0    0    0    0    0    0    1  \n",
      "4    0    0    0    0    0    0    0    0    0  \n",
      "\n",
      "[5 rows x 94 columns]\n",
      "Index(['PC_enc', 'num_unq_proc', 'F0_x', 'P0', 'P1', 'P2', 'P3', 'P4', 'P5',\n",
      "       'P6', 'P7', 'P8', 'P9', 'P10', 'P11', 'P12', 'P13', 'P14', 'P15', 'P16',\n",
      "       'P17', 'P18', 'P19', 'P20', 'P21', 'P22', 'P23', 'P24', 'P25', 'P26',\n",
      "       'P27', 'P28', 'P29', 'F0_y', 'F1', 'F2', 'F3', 'F4', 'F5', 'F6', 'F7',\n",
      "       'F8', 'F9', 'F10', 'F11', 'F12', 'F13', 'F14', 'F15', 'F16', 'F17',\n",
      "       'F18', 'F19', 'F20', 'F21', 'F22', 'F23', 'F24', 'F25', 'F26', 'F27',\n",
      "       'F28', 'F29', 'F30', 'F31', 'F32', 'F33', 'F34', 'F35', 'F36', 'F37',\n",
      "       'F38', 'F39', 'F40', 'F41', 'F42', 'F43', 'F44', 'F45', 'F46', 'F47',\n",
      "       'F48', 'F49', 'F50', 'F51', 'F52', 'F53', 'F54', 'F55', 'F56', 'F57',\n",
      "       'F58', 'F59', 'F60'],\n",
      "      dtype='object')\n"
     ]
    }
   ],
   "source": [
    "SP_diagnosis = pd.read_csv('SP_diagnosis.csv')\n",
    "PC_diagnosis = pd.read_csv('PC_diagnosis.csv')\n",
    "PC_proc = pd.read_csv('PC_proc.csv')\n",
    "PC_lab_results = pd.read_csv('PC_lab_results_v3.csv')\n",
    "SP_proc = pd.read_csv('SP_proc_v2.csv')\n",
    "\n",
    "print(PC_diagnosis.head())\n",
    "print(SP_diagnosis.head())\n",
    "print(PC_lab_results.head())\n",
    "print(SP_proc.head())\n",
    "print(SP_proc.columns)"
   ]
  },
  {
   "cell_type": "markdown",
   "metadata": {},
   "source": [
    "### Join all the tables"
   ]
  },
  {
   "cell_type": "code",
   "execution_count": 43,
   "metadata": {},
   "outputs": [
    {
     "name": "stdout",
     "output_type": "stream",
     "text": [
      "Index(['PC_enc', 'num_unq_proc_x', 'F0_x_x', 'F1_x', 'F2_x', 'F3_x', 'F4_x',\n",
      "       'F5_x', 'F6_x', 'F7_x',\n",
      "       ...\n",
      "       'F51_y', 'F52_y', 'F53_y', 'F54_y', 'F55_y', 'F56_y', 'F57_y', 'F58_y',\n",
      "       'F59_y', 'F60_y'],\n",
      "      dtype='object', length=468)\n",
      "6821\n"
     ]
    }
   ],
   "source": [
    "matched_enc = pd.merge(pd.merge(PC_diagnosis, PC_lab_results, how='inner', on='PC_enc'), PC_proc, how='inner',on='PC_enc')\n",
    "matched_enc = pd.merge(matched_enc,SP_proc, on='PC_enc', how='inner')\n",
    "print(matched_enc.columns)\n",
    "print(len(matched_enc))\n",
    "\n"
   ]
  },
  {
   "cell_type": "markdown",
   "metadata": {},
   "source": [
    "### Find the indices of the columns"
   ]
  },
  {
   "cell_type": "code",
   "execution_count": 51,
   "metadata": {},
   "outputs": [
    {
     "name": "stdout",
     "output_type": "stream",
     "text": [
      "12\n",
      "302\n",
      "63\n",
      "94\n",
      "Index(['F0_x_x', 'F1_x', 'F2_x', 'F3_x', 'F4_x', 'F5_x', 'F6_x', 'F7_x',\n",
      "       'F8_x', 'F9_x'],\n",
      "      dtype='object')\n",
      "[2, 12]\n",
      "Index(['Lab0', 'Low0', 'High0', 'Lab1', 'Low1', 'High1', 'Lab2', 'Low2',\n",
      "       'High2', 'Lab3',\n",
      "       ...\n",
      "       'High96', 'Lab97', 'Low97', 'High97', 'Lab98', 'Low98', 'High98',\n",
      "       'Lab99', 'Low99', 'High99'],\n",
      "      dtype='object', length=300)\n",
      "[13, 313]\n",
      "Index(['F0_y_x', 'F1_y', 'F2_y', 'F3_y', 'F4_y', 'F5_y', 'F6_y', 'F7_y',\n",
      "       'F8_y', 'F9_y', 'F10_x', 'F11_x', 'F12_x', 'F13_x', 'F14_x', 'F15_x',\n",
      "       'F16_x', 'F17_x', 'F18_x', 'F19_x', 'F20_x', 'F21_x', 'F22_x', 'F23_x',\n",
      "       'F24_x', 'F25_x', 'F26_x', 'F27_x', 'F28_x', 'F29_x', 'F30_x', 'F31_x',\n",
      "       'F32_x', 'F33_x', 'F34_x', 'F35_x', 'F36_x', 'F37_x', 'F38_x', 'F39_x',\n",
      "       'F40_x', 'F41_x', 'F42_x', 'F43_x', 'F44_x', 'F45_x', 'F46_x', 'F47_x',\n",
      "       'F48_x', 'F49_x', 'F50_x', 'F51_x', 'F52_x', 'F53_x', 'F54_x', 'F55_x',\n",
      "       'F56_x', 'F57_x', 'F58_x', 'F59_x', 'F60_x'],\n",
      "      dtype='object')\n",
      "[314, 375]\n",
      "Index(['P0', 'P1', 'P2', 'P3', 'P4', 'P5', 'P6', 'P7', 'P8', 'P9', 'P10',\n",
      "       'P11', 'P12', 'P13', 'P14', 'P15', 'P16', 'P17', 'P18', 'P19', 'P20',\n",
      "       'P21', 'P22', 'P23', 'P24', 'P25', 'P26', 'P27', 'P28', 'P29'],\n",
      "      dtype='object')\n",
      "377 407\n",
      "Index(['F0_y_y', 'F1', 'F2', 'F3', 'F4', 'F5', 'F6', 'F7', 'F8', 'F9', 'F10_y',\n",
      "       'F11_y', 'F12_y', 'F13_y', 'F14_y', 'F15_y', 'F16_y', 'F17_y', 'F18_y',\n",
      "       'F19_y', 'F20_y', 'F21_y', 'F22_y', 'F23_y', 'F24_y', 'F25_y', 'F26_y',\n",
      "       'F27_y', 'F28_y', 'F29_y', 'F30_y', 'F31_y', 'F32_y', 'F33_y', 'F34_y',\n",
      "       'F35_y', 'F36_y', 'F37_y', 'F38_y', 'F39_y', 'F40_y', 'F41_y', 'F42_y',\n",
      "       'F43_y', 'F44_y', 'F45_y', 'F46_y', 'F47_y', 'F48_y', 'F49_y', 'F50_y',\n",
      "       'F51_y', 'F52_y', 'F53_y', 'F54_y', 'F55_y', 'F56_y', 'F57_y', 'F58_y',\n",
      "       'F59_y', 'F60_y'],\n",
      "      dtype='object')\n",
      "407\n"
     ]
    }
   ],
   "source": [
    "print(len(PC_diagnosis.columns))\n",
    "print(len(PC_lab_results.columns))\n",
    "print(len(PC_proc.columns))\n",
    "print(len(SP_proc.columns)) \n",
    "# note: SP_proc also includes the provider features; which provider ordered the procedure\n",
    "\n",
    "pc_dx_id_0 = 2\n",
    "pc_dx_id_1 = len(PC_diagnosis.columns)\n",
    "print(matched_enc.columns[pc_dx_id_0:pc_dx_id_1])\n",
    "print([pc_dx_id_0,pc_dx_id_1])\n",
    "\n",
    "pc_lab_id_0 = pc_dx_id_1+1\n",
    "pc_lab_id_1 = pc_lab_id_0 + len(PC_lab_results.columns)-2\n",
    "print(matched_enc.columns[pc_lab_id_0:pc_lab_id_1])\n",
    "print([pc_lab_id_0,pc_lab_id_1])\n",
    "\n",
    "pc_proc_id_0 = pc_lab_id_1+1\n",
    "pc_proc_id_1 = pc_proc_id_0 + len(PC_proc.columns)-2\n",
    "print(matched_enc.columns[pc_proc_id_0:pc_proc_id_1])\n",
    "print([pc_proc_id_0,pc_proc_id_1])\n",
    "\n",
    "sp_prov_id_0 = pc_proc_id_1+2 # ignore the provider information\n",
    "sp_prov_id_1 = sp_prov_id_0+ 30\n",
    "print(matched_enc.columns[sp_prov_id_0:sp_prov_id_1])\n",
    "print(sp_prov_id_0, sp_prov_id_1)\n",
    "\n",
    "\n",
    "sp_proc_id_0 = pc_proc_id_1+32 # ignore the provider information\n",
    "#pc_proc_id_1 = sp_proc_id_0+ len(SP_proc.columns)\n",
    "print(matched_enc.columns[sp_proc_id_0:])\n",
    "print(sp_proc_id_0)\n"
   ]
  },
  {
   "cell_type": "markdown",
   "metadata": {},
   "source": [
    "### Final Step: Save the Results"
   ]
  },
  {
   "cell_type": "code",
   "execution_count": 19,
   "metadata": {},
   "outputs": [],
   "source": [
    "n_train = 5500\n",
    "n_test = 6821 - 5500\n",
    "matched_enc.head(n_train).to_csv('data_train.csv',index=False)\n",
    "matched_enc.tail(n_test).to_csv('data_test.csv',index=False)\n"
   ]
  },
  {
   "cell_type": "code",
   "execution_count": null,
   "metadata": {},
   "outputs": [],
   "source": []
  },
  {
   "cell_type": "code",
   "execution_count": null,
   "metadata": {},
   "outputs": [],
   "source": []
  },
  {
   "cell_type": "code",
   "execution_count": null,
   "metadata": {},
   "outputs": [],
   "source": []
  },
  {
   "cell_type": "code",
   "execution_count": null,
   "metadata": {},
   "outputs": [],
   "source": []
  },
  {
   "cell_type": "code",
   "execution_count": null,
   "metadata": {},
   "outputs": [],
   "source": []
  },
  {
   "cell_type": "code",
   "execution_count": 69,
   "metadata": {},
   "outputs": [
    {
     "name": "stdout",
     "output_type": "stream",
     "text": [
      "[0 3 7]\n",
      "[ 4 31]\n"
     ]
    }
   ],
   "source": [
    "i = 8\n",
    "print(np.where(matched_enc[matched_enc.columns[2:12]].to_numpy()[i,:]==1)[0])\n",
    "I1 = np.where(matched_enc[matched_enc.columns[2:12]].to_numpy()[i,:]==1)[0]\n",
    "print(np.where(matched_enc[matched_enc.columns[314: 375]].to_numpy()[i,:]==1)[0])\n",
    "I2 = np.where(matched_enc[matched_enc.columns[314: 375]].to_numpy()[i,:]==1)[0]"
   ]
  },
  {
   "cell_type": "code",
   "execution_count": 70,
   "metadata": {},
   "outputs": [],
   "source": [
    "Top_dx = [ ['iabetes'] # diabetes mellitus, Type II or unspecified type diabetes mellitus, Prediabetes\n",
    "            , ['ypercalcemia', 'hyperparathyroidism'] # Hypercalcemia\n",
    "            , ['yperlipidemia'] #hyperlipidemia\n",
    "            , ['ypothyroidism'] #hypothyroidism\n",
    "            , ['yperthyroidism', 'hyrotoxicosis' ] #hyperthyroidism or Thyrotoxicosis\n",
    "            , ['Obesity']\n",
    "            , ['steopenia'] #(Osteopenia)\n",
    "            , ['steoporosis'] #Osteoporosis\n",
    "            , ['cancer', 'alignant','carcinoma']# Thyroid cancer (CMS-HCC) ## or 'gland', or 'carcinoma'\n",
    "            , ['nodul'] # Thyroid nodule or ''goiter' #Nontoxic uninodular goiter,  Nontoxic multinodular goiter'\n",
    "            ######\n",
    "            #, 'itamin'# Vitamin D deficiency (Vitamin D insufficiency)\n",
    "           ]\n",
    "\n",
    "\n",
    "\n",
    "Top_proc = [ 'TSH', 'T4','25-HYDROXYVITAMIN','1 25 OH VITAMIN D','METABOLIC PANEL','HEMOGLOBIN','PARATHYROID','CORTISOL' ,'TPO AB','PHOSPHORUS',\n",
    "            'CREATININE','PROLACTIN','US THYROID','CALCIUM','FSH','T3','ADRENOCORTICOTROPIC','LIPID PANEL','LUTEINIZING',\n",
    "            'BONE ALKALINE','IGA','PEPTIDE','DXA ADULT','TESTOSTERONE','HGB','MAGNESIUM','IMMUNOGLOBULIN','COLLAGEN TYPE',\n",
    "            'ALBUMIN', 'THYROGLOBULIN','VITAMIN B12','CBC','DEHYDROEPIANDROSTERONE','ESTRADIOL','BONE DENSITY','INSULIN-LIKE GROWTH FACTOR 1',\n",
    "            'METANEPHRINES','ALDOSTERONE','HEPATIC','THYROGLOBULIN','US HEAD NECK SOFT TISSUE','URINE PROTEIN','RENIN','ALT',\n",
    "            'FERRITIN','NTX TELOPEPTIDE','PROTEIN IMMUNOFIX ELECTROPHORESIS','CELIAC DISEASE SCREEN','NON-GYN CYTOLOGY EXAM','URIC ACID',\n",
    "            'AST','T-TRANSGLUTAMINASE','GAD','17OH PROG','FRUCTOSAMINE','SEX HORMONE BINDING GLOBULIN','SURVEY FOR METASTATIC THYROID CANCER',\n",
    "            'CATECHOLAMINES','NUC 131I WHOLE BODY POST THERAPY SCAN', 'GLUCOSE NON-FASTING','TRANSFERRIN SATURATION'\n",
    "]\n",
    "\n",
    "\n"
   ]
  },
  {
   "cell_type": "code",
   "execution_count": 71,
   "metadata": {},
   "outputs": [
    {
     "name": "stdout",
     "output_type": "stream",
     "text": [
      "['METABOLIC PANEL' 'CBC']\n"
     ]
    }
   ],
   "source": [
    "Top_proc = np.array(Top_proc)\n",
    "#print(Top_dx[I1])\n",
    "print(Top_proc[I2])"
   ]
  },
  {
   "cell_type": "code",
   "execution_count": null,
   "metadata": {},
   "outputs": [],
   "source": []
  },
  {
   "cell_type": "code",
   "execution_count": null,
   "metadata": {},
   "outputs": [],
   "source": []
  },
  {
   "cell_type": "markdown",
   "metadata": {},
   "source": [
    "## Test and Debug"
   ]
  },
  {
   "cell_type": "code",
   "execution_count": 37,
   "metadata": {},
   "outputs": [
    {
     "name": "stdout",
     "output_type": "stream",
     "text": [
      "[131235552027 131235531093 131235514074 131033647220 131235493064\n",
      " 131235454853 131235486561 131033803497 131034220166 131261087497]\n",
      "(array([0]), array([44]))\n",
      "[[131039491495            0            0            0            0\n",
      "             0            0            0            0            0\n",
      "             0            0            0            0            0\n",
      "             0            0            0            0            0\n",
      "             0            0            0            0            0\n",
      "             0            0            0            0            0\n",
      "             0            0            0            0            0\n",
      "             0            0            0            0            0\n",
      "             0            0            0            0            1\n",
      "             0            0            0            0            0\n",
      "             0            0            0            0            0\n",
      "             0            0            0            0            0\n",
      "             0            0]]\n"
     ]
    }
   ],
   "source": [
    "data_train = matched_enc\n",
    "PC_train = data_train[[data_train.columns[0]]+list(data_train.columns[314:375])]\n",
    "\n",
    "# test enc:\n",
    "enc = 131039491495\n",
    "\n",
    "print(PC_train.PC_enc.unique()[-10:])\n",
    "#print(PC_train_feature[PC_train_feature.PC_enc==enc].to_numpy())\n",
    "print(np.where(PC_train[PC_train.PC_enc==enc].to_numpy()==1))\n",
    "\n",
    "#[131016267790 131038807665 131024807744 131230637158 131066261155\n",
    "# 131039491495 131039363870 131026389462 131023253397 131039772106]\n",
    "\n",
    "print(PC_train[PC_train.PC_enc==enc].to_numpy())"
   ]
  },
  {
   "cell_type": "code",
   "execution_count": null,
   "metadata": {},
   "outputs": [],
   "source": []
  }
 ],
 "metadata": {
  "kernelspec": {
   "display_name": "Python 3",
   "language": "python",
   "name": "python3"
  },
  "language_info": {
   "codemirror_mode": {
    "name": "ipython",
    "version": 3
   },
   "file_extension": ".py",
   "mimetype": "text/x-python",
   "name": "python",
   "nbconvert_exporter": "python",
   "pygments_lexer": "ipython3",
   "version": "3.6.6"
  }
 },
 "nbformat": 4,
 "nbformat_minor": 2
}

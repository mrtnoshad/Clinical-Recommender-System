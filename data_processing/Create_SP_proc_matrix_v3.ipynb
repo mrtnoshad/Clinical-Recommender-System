{
 "cells": [
  {
   "cell_type": "markdown",
   "metadata": {},
   "source": [
    "## This version: 28 procedures"
   ]
  },
  {
   "cell_type": "markdown",
   "metadata": {},
   "source": [
    "### Load Order_Procedure from BQ"
   ]
  },
  {
   "cell_type": "code",
   "execution_count": 1,
   "metadata": {},
   "outputs": [
    {
     "name": "stderr",
     "output_type": "stream",
     "text": [
      "/Library/Frameworks/Python.framework/Versions/3.6/lib/python3.6/site-packages/google/auth/_default.py:69: UserWarning: Your application has authenticated using end user credentials from Google Cloud SDK. We recommend that most server applications use service accounts instead. If your application continues to use end user credentials from Cloud SDK, you might receive a \"quota exceeded\" or \"API not enabled\" error. For more information about service accounts, see https://cloud.google.com/docs/authentication/\n",
      "  warnings.warn(_CLOUD_SDK_CREDENTIALS_WARNING)\n"
     ]
    }
   ],
   "source": [
    "# example: read from BigQuery chart to numpy\n",
    "from google.cloud import bigquery\n",
    "from google.cloud.bigquery import dbapi;\n",
    "import numpy as np\n",
    "import pandas as pd\n",
    "\n",
    "\n",
    "\n",
    "client = bigquery.Client(\"som-nero-phi-jonc101\"); # Project identifier\n",
    "conn = dbapi.connect(client);\n",
    "cursor = conn.cursor();\n",
    "query = \"select * from `som-nero-phi-jonc101.Clinical_Collaborative_Filtering.spec_proc_v2`\"; # Example dataset table\n",
    "\n",
    "\n",
    "# to DataFrame\n",
    "\n",
    "df_all = (\n",
    "    client.query(query)\n",
    "    .result()\n",
    "    .to_dataframe()\n",
    ")\n",
    "\n"
   ]
  },
  {
   "cell_type": "code",
   "execution_count": 3,
   "metadata": {},
   "outputs": [
    {
     "name": "stdout",
     "output_type": "stream",
     "text": [
      "TSH\n",
      "T4, FREE\n",
      "VITAMIN D, 25-HYDROXYVITAMIN\n",
      "METABOLIC PANEL, COMPREHENSIVE\n",
      "HEMOGLOBIN A1C\n",
      "PARATHYROID HORMONE\n",
      "METABOLIC PANEL, BASIC\n",
      "CORTISOL, SERUM\n",
      "ANTI - TPO AB\n",
      "PHOSPHORUS, SERUM/PLASMA\n",
      "ALBUMIN WITH CREATININE, URINE (RANDOM)\n",
      "TSH W/ REFLEX FT4\n",
      "PROLACTIN\n",
      "US THYROID\n",
      "CREATININE, URINE (TIMED)\n",
      "CALCIUM, URINE (TIMED)\n",
      "FSH\n",
      "T3, FREE\n",
      "ADRENOCORTICOTROPIC HORMONE (ACTH)\n",
      "CALCIUM, SERUM/PLASMA\n",
      "LAB UNLISTED 1\n",
      "LIPID PANEL WITH DIRECT LDL\n",
      "LUTEINIZING HORMONE\n",
      "LIPID PANEL WITH CALCULATED LDL\n",
      "T3, TOTAL\n",
      "BONE ALKALINE PHOSPHATASE, SERUM\n",
      "IGA ANTI  TTG\n",
      "C - PEPTIDE, SERUM\n",
      "DXA ADULT\n",
      "TESTOSTERONE, TOTAL, BIO, FREE\n",
      "HGB A1C W/ EST MEAN GLUCOSE\n",
      "MAGNESIUM, SERUM/PLASMA\n",
      "THYROID-STIMULATING IMMUNOGLOBULIN (TSI)\n",
      "COLLAGEN TYPE I C-TELOPEPTIDE (CTX)\n",
      "ALBUMIN, SERUM/PLASMA\n",
      "TSH AND FREE T4\n",
      "THYROGLOBULIN AND TGAB COMPREHENSIVE\n",
      "VITAMIN B12\n",
      "THYROGLOBULIN AB ULTRA-SENSITIVE\n",
      "CBC WITH DIFFERENTIAL\n",
      "TESTOSTERONE\n",
      "DEHYDROEPIANDROSTERONE, SULFATE\n",
      "ESTRADIOL\n",
      "CBC W/O DIFF\n",
      "CREATININE, SERUM/PLASMA\n",
      "BONE DENSITY ADULT\n",
      "INSULIN-LIKE GROWTH FACTOR 1\n",
      "METANEPHRINES FRACTIONATED FREE, PLASMA\n",
      "ALDOSTERONE\n",
      "FREE CORTISOL, URINE (TIMED)\n",
      "HEPATIC FUNCTION PANEL A\n",
      "THYROGLOBULIN\n",
      "US HEAD NECK SOFT TISSUE\n",
      "CORTISOL, AM\n",
      "IGA, SERUM\n",
      "URINE PROTEIN IMMUNOFIXATION ELECTROPHORESIS\n",
      "RENIN\n",
      "ALT, SERUM/PLASMA\n",
      "FERRITIN\n",
      "THYROID STIMULATING IMMUNOGLOBULIN\n"
     ]
    }
   ],
   "source": [
    "N_proc = 60\n",
    "df_n = df_all[['PC_enc', 'proc_name']]\n",
    "temp_df = df_n.groupby(['proc_name']).apply(len).reset_index().rename(columns={'proc_name':'proc_name', 0:'num'}) #, as_index=False  \n",
    "T = temp_df.sort_values('num',ascending=False).head(N_proc)['proc_name'].to_numpy()\n",
    "for i in range(N_proc):\n",
    "    print(T[i])\n",
    "\n"
   ]
  },
  {
   "cell_type": "code",
   "execution_count": 4,
   "metadata": {},
   "outputs": [
    {
     "data": {
      "text/plain": [
       "<matplotlib.axes._subplots.AxesSubplot at 0x12b9b4860>"
      ]
     },
     "execution_count": 4,
     "metadata": {},
     "output_type": "execute_result"
    },
    {
     "data": {
      "image/png": "[encoded data removed]",
      "text/plain": [
       "<Figure size 432x288 with 1 Axes>"
      ]
     },
     "metadata": {
      "needs_background": "light"
     },
     "output_type": "display_data"
    }
   ],
   "source": [
    "df= df_n\n",
    "lendf = df.shape[0]\n",
    "df_plot = df['proc_name'].value_counts().head(10).reset_index().rename(columns={'index':'Procedure Name','proc_name':'percentage' })\n",
    "df_plot['percentage' ]=df_plot['percentage' ]/lendf\n",
    "df_plot.plot.bar(x='Procedure Name',y='percentage' )"
   ]
  },
  {
   "cell_type": "code",
   "execution_count": null,
   "metadata": {},
   "outputs": [],
   "source": []
  },
  {
   "cell_type": "markdown",
   "metadata": {},
   "source": [
    "### Remove unnecessary columns and rows"
   ]
  },
  {
   "cell_type": "code",
   "execution_count": 4,
   "metadata": {},
   "outputs": [
    {
     "name": "stdout",
     "output_type": "stream",
     "text": [
      "     jc_uid        PC_enc     PC_app_datetime     PC_ref_datetime  \\\n",
      "0  JCdf9b24  131190115844 2016-07-21 14:00:00 2016-07-21 14:33:00   \n",
      "1  JCdf9b24  131190115844 2016-07-21 14:00:00 2016-07-21 14:33:00   \n",
      "2  JCd062ef  131193047867 2016-08-16 14:15:00 2016-08-17 10:41:00   \n",
      "3  JCd062ef  131193047867 2016-08-16 14:15:00 2016-08-17 10:41:00   \n",
      "4  JCe9e8a2  131256960011 2018-09-22 00:00:00 2018-09-22 11:49:00   \n",
      "\n",
      "         SP_enc     SP_app_datetime order_type  proc_id  \\\n",
      "0  131190408679 2016-08-31 09:00:00        Lab     1944   \n",
      "1  131190408679 2016-08-31 09:00:00        Lab     2220   \n",
      "2  131197339532 2016-08-23 09:30:00        Lab   196616   \n",
      "3  131197339532 2016-08-23 09:30:00        Lab   196616   \n",
      "4  131257160718 2018-12-11 13:40:00        Lab    70199   \n",
      "\n",
      "                              proc_name     proc_order_time prov_id  \n",
      "0                              T4, FREE 2016-08-31 09:28:00    None  \n",
      "1                                   TSH 2016-08-31 09:28:00    None  \n",
      "2  OCCULT BLD, GUAIAC, STOOL, DIAG TEST 2016-08-25 20:42:00    None  \n",
      "3  OCCULT BLD, GUAIAC, STOOL, DIAG TEST 2016-08-25 20:42:00    None  \n",
      "4    ADRENOCORTICOTROPIC HORMONE (ACTH) 2018-12-31 00:00:00   S1012  \n",
      "         PC_enc  proc_id\n",
      "0  131190115844     1944\n",
      "1  131190115844     2220\n",
      "2  131193047867   196616\n",
      "4  131256960011    70199\n",
      "5  131256960011     1570\n"
     ]
    }
   ],
   "source": [
    "print(df_all.head())\n",
    "\n",
    "# only take PC_enc and proc_id\n",
    "df = df_all[['PC_enc', 'proc_id']]\n",
    "\n",
    "# remove duplicate rows:\n",
    "df = df.drop_duplicates()\n",
    "\n",
    "print(df.head())"
   ]
  },
  {
   "cell_type": "markdown",
   "metadata": {},
   "source": [
    "### Create the table of unique encounter id"
   ]
  },
  {
   "cell_type": "code",
   "execution_count": 5,
   "metadata": {},
   "outputs": [
    {
     "name": "stdout",
     "output_type": "stream",
     "text": [
      "            PC_enc  num_unq_proc\n",
      "4533  131094507503            32\n",
      "3715  131049295970            30\n",
      "5228  131182751483            28\n",
      "4787  131126530538            27\n",
      "3284  131033859921            27\n",
      "All of the encounters with at least one proc order:  9613\n",
      "Average order per encounter:  4.7122646416311245\n",
      "Min order per encounter:  1\n",
      "Max order per encounter:  32\n"
     ]
    }
   ],
   "source": [
    "unq_PC_enc = df.groupby(['PC_enc']).apply(len).reset_index().rename(columns={'proc_id':'proc_id', 0:'num_unq_proc'}).sort_values('num_unq_proc',ascending=False)  \n",
    "print(unq_PC_enc.head())\n",
    "print('All of the encounters with at least one proc order: ',len(unq_PC_enc))\n",
    "print('Average order per encounter: ', np.mean(unq_PC_enc.num_unq_proc.to_numpy()))\n",
    "print('Min order per encounter: ', np.min(unq_PC_enc.num_unq_proc.to_numpy()))\n",
    "print('Max order per encounter: ', np.max(unq_PC_enc.num_unq_proc.to_numpy()))"
   ]
  },
  {
   "cell_type": "markdown",
   "metadata": {},
   "source": [
    "### Choose only specific proc names"
   ]
  },
  {
   "cell_type": "code",
   "execution_count": 10,
   "metadata": {},
   "outputs": [
    {
     "name": "stdout",
     "output_type": "stream",
     "text": [
      "28\n"
     ]
    }
   ],
   "source": [
    "Top_proc = [ ['TSH'],\n",
    "                  ['A1C'],\n",
    "                  ['MICROALB'],\n",
    "                  ['CHOL','LIPID', 'LDL'],\n",
    "                  ['CREATININE', 'METABOLIC', 'METAB', 'RENAL FUNCTION', 'ELECTROLYTE', 'BMP8+EGFR','CHEM 10','CHEM23'],\n",
    "                  ['RETINA'],\n",
    "                  ['CALCIUM IONIZED','CALCIUM, SERUM/PLASMA','CALCIUM (MANUAL ENTRY)','CHEM 10','CHEM23','COMPREHENSIVE METABOLIC PANEL 14'],\n",
    "                  ['ALBUMIN'],\n",
    "                  ['PTH','PARATHYROID HORMONE'],\n",
    "                  ['NUC PARATHYROID SCAN','NM PARATHYROID','TC99M SESTAMIBI'],\n",
    "                  ['T4'],\n",
    "                  ['T3'],\n",
    "                  ['TSI','THYROID STIMULATING IMMUNOGLOBULIN', 'THYROID STIM IMMUNOGLOBULIN' 'RECEPTOR A','TBII'],\n",
    "                  ['TPO AB'],\n",
    "                  ['THYROID FUNCTION SCAN AND UPTAKE', 'THYROID UPTAKE AND SCAN', 'THYROID IMAGE UPTAKE'],\n",
    "                  ['C-TELOPEPTIDE'],\n",
    "                  ['TELOPEPTIDE, URINE', 'N-TELOPEPTIDE'],\n",
    "                  ['VITAMIN D, 25-HYDROXY','VITAMIN D 25-HYDROXY','25 HYDROXY','VITAMIN D, 25-OH','VITAMIN D25-OH','VITAMIN D, 25-OH'],\n",
    "                  ['25 OH VITAMIN D','VITAMIN D, 1,25', 'VITAMIN D 1,25', '1,25-DIHYDROXYVITAMIN'],\n",
    "                  ['ALKALINE PHOSPHATASE TOTAL','TOTAL ALK','CHEM23', 'COMPREHENSIVE METABOLIC PANEL', 'METABOLIC PANEL, COMPREHENSIVE'],\n",
    "                  ['BONE ALKALINE','ALKP. PHOSPHATASE', 'ALKALINE PHOSPHATASE', 'LIVER PANEL'],\n",
    "                  ['SPEP', 'PROTEIN ELECTROPHORESIS','PROTEIN IMMUNOFIX ELECTROPHORESIS'],\n",
    "                  ['URINE PROTEIN IMMUNOFIXATION ELECTROPHORESIS'],\n",
    "                  ['US THYROID'],\n",
    "                  ['US SOFT TISS HEAD','US HEAD NECK'],\n",
    "                  ['FNA'],\n",
    "                  ['THYROGLOBULIN'],\n",
    "                  ['CALCIUM, 24', 'CALCIUM 24', 'CALCIUM,24', 'CALCIUM, URINE (TIMED)']\n",
    "                 ]\n",
    "                  \n",
    "                  \n",
    "                  \n",
    "\n",
    "\n",
    "N_proc = len(Top_proc)\n",
    "print(N_proc)\n",
    "                  \n",
    "                  "
   ]
  },
  {
   "cell_type": "markdown",
   "metadata": {},
   "source": [
    "### Create Feature Matrix of Lab Results"
   ]
  },
  {
   "cell_type": "code",
   "execution_count": 11,
   "metadata": {},
   "outputs": [
    {
     "name": "stdout",
     "output_type": "stream",
     "text": [
      "17.857142857142858%"
     ]
    },
    {
     "name": "stderr",
     "output_type": "stream",
     "text": [
      "/Library/Frameworks/Python.framework/Versions/3.6/lib/python3.6/site-packages/pandas/core/strings.py:1843: UserWarning: This pattern has match groups. To actually get the groups, use str.extract.\n",
      "  return func(self, *args, **kwargs)\n"
     ]
    },
    {
     "name": "stdout",
     "output_type": "stream",
     "text": [
      "96.42857142857143%%         PC_enc  num_unq_proc  F0  F1  F2  F3  F4  F5  F6  F7  ...  F18  F19  \\\n",
      "0  131094507503            32   1   0   0   0   1   0   1   0  ...    1    1   \n",
      "1  131049295970            30   1   0   0   0   1   0   1   1  ...    0    1   \n",
      "2  131182751483            28   1   1   0   0   1   0   0   0  ...    0    1   \n",
      "3  131126530538            27   1   0   0   0   1   0   1   0  ...    0    1   \n",
      "4  131033859921            27   1   0   0   0   1   0   1   0  ...    0    1   \n",
      "\n",
      "   F20  F21  F22  F23  F24  F25  F26  F27  \n",
      "0    1    1    1    0    0    0    1    0  \n",
      "1    1    1    1    0    0    0    0    0  \n",
      "2    1    0    0    0    0    0    0    0  \n",
      "3    1    0    0    0    0    0    0    0  \n",
      "4    1    1    1    0    0    0    0    0  \n",
      "\n",
      "[5 rows x 30 columns]\n"
     ]
    }
   ],
   "source": [
    "import sys\n",
    "\n",
    "for i in range(N_proc):\n",
    "    \n",
    "    # define the search function\n",
    "    def my_func(df):\n",
    "        L = Top_proc[i]\n",
    "        s = 0\n",
    "        for j in range(len(L)):\n",
    "            s = s + len(df[df['proc_name'].str.contains(L[j])])\n",
    "        return int(s>0)\n",
    "    \n",
    "    #def my_func(df):\n",
    "    #    return int(len(df[df['proc_name'].str.contains(Top_proc_names[i])])>0)\n",
    "    \n",
    "    F_df = df_n.groupby(['PC_enc']).apply(my_func).reset_index().rename(columns={'PC_enc':'PC_enc', 0:'F'+str(i)}) \n",
    "    unq_PC_enc = pd.merge(unq_PC_enc, F_df, how='left', on='PC_enc')\n",
    "    \n",
    "    # report i \n",
    "    sys.stdout.write('\\r')\n",
    "    sys.stdout.write(str(i/N_proc*100)+'%')\n",
    "    sys.stdout.flush()\n",
    "\n",
    "\n",
    "print(unq_PC_enc.head())\n"
   ]
  },
  {
   "cell_type": "markdown",
   "metadata": {},
   "source": [
    "### Save the Results into CSV"
   ]
  },
  {
   "cell_type": "code",
   "execution_count": 12,
   "metadata": {},
   "outputs": [
    {
     "name": "stdout",
     "output_type": "stream",
     "text": [
      "9613\n"
     ]
    }
   ],
   "source": [
    "print(len(unq_PC_enc))\n",
    "#print(unq_PC_enc.sort_values('F0',ascending=False))\n",
    "#print(np.sum(unq_PC_enc['F0'].to_numpy()))\n",
    "unq_PC_enc.to_csv('SP_proc_v3.csv', index=False)"
   ]
  },
  {
   "cell_type": "code",
   "execution_count": null,
   "metadata": {},
   "outputs": [],
   "source": []
  },
  {
   "cell_type": "code",
   "execution_count": null,
   "metadata": {},
   "outputs": [],
   "source": []
  },
  {
   "cell_type": "code",
   "execution_count": null,
   "metadata": {},
   "outputs": [],
   "source": []
  },
  {
   "cell_type": "code",
   "execution_count": null,
   "metadata": {},
   "outputs": [],
   "source": []
  },
  {
   "cell_type": "markdown",
   "metadata": {},
   "source": [
    "### Test my_func"
   ]
  },
  {
   "cell_type": "code",
   "execution_count": 90,
   "metadata": {},
   "outputs": [
    {
     "name": "stdout",
     "output_type": "stream",
     "text": [
      "Check\n",
      "4913\n",
      "         PC_enc  num_unq_proc  F\n",
      "0  131094507503            32  1\n",
      "1  131049295970            30  1\n",
      "2  131182751483            29  1\n",
      "3  131235992610            28  1\n",
      "4  131194373585            27  1\n"
     ]
    }
   ],
   "source": [
    "def my_func(dfi):\n",
    "    a = int(len(dfi[dfi['proc_id']==2220])>0)\n",
    "    return a #pd.DataFrame({'main':dfi, 'func': a })\n",
    "\n",
    "#print(df.columns)\n",
    "#print(df.head())\n",
    "F_df  = df.groupby('PC_enc').apply(my_func).reset_index().rename(columns={'PC_enc':'PC_enc', 0:'F'}) \n",
    "print('Check')\n",
    "df_temp = pd.merge(unq_PC_enc, F_df, how='left', on='PC_enc')\n",
    "print(np.sum(df_temp['F'].to_numpy()))\n",
    "print(df_temp.head())"
   ]
  },
  {
   "cell_type": "code",
   "execution_count": null,
   "metadata": {},
   "outputs": [],
   "source": []
  },
  {
   "cell_type": "code",
   "execution_count": null,
   "metadata": {},
   "outputs": [],
   "source": []
  },
  {
   "cell_type": "code",
   "execution_count": null,
   "metadata": {},
   "outputs": [],
   "source": []
  },
  {
   "cell_type": "code",
   "execution_count": null,
   "metadata": {},
   "outputs": [],
   "source": []
  }
 ],
 "metadata": {
  "kernelspec": {
   "display_name": "Python 3",
   "language": "python",
   "name": "python3"
  },
  "language_info": {
   "codemirror_mode": {
    "name": "ipython",
    "version": 3
   },
   "file_extension": ".py",
   "mimetype": "text/x-python",
   "name": "python",
   "nbconvert_exporter": "python",
   "pygments_lexer": "ipython3",
   "version": "3.6.6"
  }
 },
 "nbformat": 4,
 "nbformat_minor": 2
}

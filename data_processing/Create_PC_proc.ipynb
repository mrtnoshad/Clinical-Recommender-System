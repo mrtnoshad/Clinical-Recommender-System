{
 "cells": [
  {
   "cell_type": "markdown",
   "metadata": {},
   "source": [
    "## This version: 61 procedures"
   ]
  },
  {
   "cell_type": "markdown",
   "metadata": {},
   "source": [
    "### Load Order_Procedure from BQ"
   ]
  },
  {
   "cell_type": "code",
   "execution_count": 1,
   "metadata": {},
   "outputs": [
    {
     "name": "stderr",
     "output_type": "stream",
     "text": [
      "/Library/Frameworks/Python.framework/Versions/3.6/lib/python3.6/site-packages/google/auth/_default.py:69: UserWarning: Your application has authenticated using end user credentials from Google Cloud SDK. We recommend that most server applications use service accounts instead. If your application continues to use end user credentials from Cloud SDK, you might receive a \"quota exceeded\" or \"API not enabled\" error. For more information about service accounts, see https://cloud.google.com/docs/authentication/\n",
      "  warnings.warn(_CLOUD_SDK_CREDENTIALS_WARNING)\n"
     ]
    }
   ],
   "source": [
    "# example: read from BigQuery chart to numpy\n",
    "from google.cloud import bigquery\n",
    "from google.cloud.bigquery import dbapi;\n",
    "import numpy as np\n",
    "import pandas as pd\n",
    "\n",
    "\n",
    "\n",
    "client = bigquery.Client(\"som-nero-phi-jonc101\"); # Project identifier\n",
    "conn = dbapi.connect(client);\n",
    "cursor = conn.cursor();\n",
    "query = \"select * from `som-nero-phi-jonc101.Clinical_Collaborative_Filtering.pc_proc`\"; # Example dataset table\n",
    "\n",
    "\n",
    "# to DataFrame\n",
    "\n",
    "df_all = (\n",
    "    client.query(query)\n",
    "    .result()\n",
    "    .to_dataframe()\n",
    ")\n",
    "\n"
   ]
  },
  {
   "cell_type": "code",
   "execution_count": 2,
   "metadata": {},
   "outputs": [
    {
     "name": "stdout",
     "output_type": "stream",
     "text": [
      "REFERRAL TO ENDOCRINE CLINIC\n",
      "REFERRAL TO ENDOCRINOLOGY\n",
      "METABOLIC PANEL, COMPREHENSIVE\n",
      "DISCHARGE DIET\n",
      "FOLLOW UP INSTRUCTIONS\n",
      "TSH\n",
      "PHYSICAL ACTIVITY\n",
      "REASON TO CALL YOUR PHYSICIAN\n",
      "HEMOGLOBIN A1C\n",
      "ADDITIONAL INSTRUCTIONS\n",
      "INTERAGENCY REFERRAL TO HOME HEALTH/ADDENDUM TO CERTIFICATION\n",
      "DISCHARGE MD TO CALL FOR QUESTIONS\n",
      "CBC WITH DIFFERENTIAL\n",
      "LIPID PANEL WITH CALCULATED LDL\n",
      "T4, FREE\n",
      "VITAMIN D, 25-HYDROXYVITAMIN\n",
      "PT EVALUATE AND TREAT\n",
      "DISCHARGE WOUND CARE\n",
      "METABOLIC PANEL, BASIC\n",
      "ALBUMIN WITH CREATININE, URINE (RANDOM)\n"
     ]
    }
   ],
   "source": [
    "N_proc = 20\n",
    "df_n = df_all[['PC_enc', 'proc_name']]\n",
    "temp_df = df_n.groupby(['proc_name']).apply(len).reset_index().rename(columns={'proc_name':'proc_name', 0:'num'}) #, as_index=False  \n",
    "T = temp_df.sort_values('num',ascending=False).head(N_proc)['proc_name'].to_numpy()\n",
    "for i in range(N_proc):\n",
    "    print(T[i])\n",
    "\n"
   ]
  },
  {
   "cell_type": "code",
   "execution_count": 3,
   "metadata": {},
   "outputs": [
    {
     "data": {
      "text/plain": [
       "<matplotlib.axes._subplots.AxesSubplot at 0x1292a5a58>"
      ]
     },
     "execution_count": 3,
     "metadata": {},
     "output_type": "execute_result"
    },
    {
     "data": {
      "image/png": "[encoded data removed]",
      "text/plain": [
       "<Figure size 432x288 with 1 Axes>"
      ]
     },
     "metadata": {
      "needs_background": "light"
     },
     "output_type": "display_data"
    }
   ],
   "source": [
    "df= df_n\n",
    "lendf = df.shape[0]\n",
    "df_plot = df['proc_name'].value_counts().head(10).reset_index().rename(columns={'index':'Procedure Name','proc_name':'percentage' })\n",
    "df_plot['percentage' ]=df_plot['percentage' ]/lendf\n",
    "df_plot.plot.bar(x='Procedure Name',y='percentage' )"
   ]
  },
  {
   "cell_type": "markdown",
   "metadata": {},
   "source": [
    "### Remove unnecessary columns and rows"
   ]
  },
  {
   "cell_type": "code",
   "execution_count": 11,
   "metadata": {},
   "outputs": [
    {
     "name": "stdout",
     "output_type": "stream",
     "text": [
      "     jc_uid    PC_enc     PC_app_datetime     PC_ref_datetime    SP_enc  \\\n",
      "0  JCde3c18  15485327 2008-05-11 08:30:00 2008-05-11 09:03:00  15831299   \n",
      "1  JCde3c18  15485327 2008-05-11 08:30:00 2008-05-11 09:03:00  15831299   \n",
      "2  JCde3c18  15485327 2008-05-11 08:30:00 2008-05-11 09:03:00  15831299   \n",
      "3  JCde3c18  15485327 2008-05-11 08:30:00 2008-05-11 09:03:00  15831299   \n",
      "4  JCe28c64  15495377 2008-05-12 00:00:00 2008-05-12 18:05:00  15574109   \n",
      "\n",
      "      SP_app_datetime           order_type  proc_id  \\\n",
      "0 2008-06-22 10:00:00  Outpatient Referral    34378   \n",
      "1 2008-06-22 10:00:00  Outpatient Referral    34378   \n",
      "2 2008-06-22 10:00:00            Pathology   152948   \n",
      "3 2008-06-22 10:00:00            Pathology   152948   \n",
      "4 2008-05-26 10:00:00  Outpatient Referral    34378   \n",
      "\n",
      "                           proc_name     proc_order_time  \n",
      "0          REFERRAL TO ENDOCRINOLOGY 2008-05-11 09:03:00  \n",
      "1          REFERRAL TO ENDOCRINOLOGY 2008-05-11 09:03:00  \n",
      "2  GYN CYTOLOGY - PAP SMEAR SPECIMEN 2008-05-11 09:08:00  \n",
      "3  GYN CYTOLOGY - PAP SMEAR SPECIMEN 2008-05-11 09:08:00  \n",
      "4          REFERRAL TO ENDOCRINOLOGY 2008-05-12 18:05:00  \n",
      "     PC_enc  proc_id\n",
      "0  15485327    34378\n",
      "2  15485327   152948\n",
      "4  15495377    34378\n",
      "5  15495377     2965\n",
      "6  15567876    34378\n"
     ]
    }
   ],
   "source": [
    "print(df_all.head())\n",
    "\n",
    "# only take PC_enc and proc_id\n",
    "df = df_all[['PC_enc', 'proc_id']]\n",
    "\n",
    "# remove duplicate rows:\n",
    "df = df.drop_duplicates()\n",
    "\n",
    "print(df.head())"
   ]
  },
  {
   "cell_type": "markdown",
   "metadata": {},
   "source": [
    "### Create the table of unique encounter id"
   ]
  },
  {
   "cell_type": "code",
   "execution_count": 12,
   "metadata": {},
   "outputs": [
    {
     "name": "stdout",
     "output_type": "stream",
     "text": [
      "             PC_enc  num_unq_proc\n",
      "11376  131254053493            45\n",
      "7011   131194225005            45\n",
      "4809   131058257208            39\n",
      "1890   131016182730            37\n",
      "11024  131251209104            37\n",
      "All of the encounters with at least one proc order:  12067\n",
      "Average order per encounter:  3.7045661722051877\n",
      "Min order per encounter:  1\n",
      "Max order per encounter:  45\n"
     ]
    }
   ],
   "source": [
    "unq_PC_enc = df.groupby(['PC_enc']).apply(len).reset_index().rename(columns={'proc_id':'proc_id', 0:'num_unq_proc'}).sort_values('num_unq_proc',ascending=False)  \n",
    "print(unq_PC_enc.head())\n",
    "print('All of the encounters with at least one proc order: ',len(unq_PC_enc))\n",
    "print('Average order per encounter: ', np.mean(unq_PC_enc.num_unq_proc.to_numpy()))\n",
    "print('Min order per encounter: ', np.min(unq_PC_enc.num_unq_proc.to_numpy()))\n",
    "print('Max order per encounter: ', np.max(unq_PC_enc.num_unq_proc.to_numpy()))"
   ]
  },
  {
   "cell_type": "markdown",
   "metadata": {},
   "source": [
    "### Choose only specific proc names"
   ]
  },
  {
   "cell_type": "code",
   "execution_count": 13,
   "metadata": {},
   "outputs": [
    {
     "name": "stdout",
     "output_type": "stream",
     "text": [
      "61\n"
     ]
    }
   ],
   "source": [
    "\n",
    "Top_proc_names = [ 'TSH', 'T4','25-HYDROXYVITAMIN','1 25 OH VITAMIN D','METABOLIC PANEL','HEMOGLOBIN','PARATHYROID','CORTISOL' ,'TPO AB','PHOSPHORUS',\n",
    "            'CREATININE','PROLACTIN','US THYROID','CALCIUM','FSH','T3','ADRENOCORTICOTROPIC','LIPID PANEL','LUTEINIZING',\n",
    "            'BONE ALKALINE','IGA','PEPTIDE','DXA ADULT','TESTOSTERONE','HGB','MAGNESIUM','IMMUNOGLOBULIN','COLLAGEN TYPE',\n",
    "            'ALBUMIN', 'THYROGLOBULIN','VITAMIN B12','CBC','DEHYDROEPIANDROSTERONE','ESTRADIOL','BONE DENSITY','INSULIN-LIKE GROWTH FACTOR 1',\n",
    "            'METANEPHRINES','ALDOSTERONE','HEPATIC','THYROGLOBULIN','US HEAD NECK SOFT TISSUE','URINE PROTEIN','RENIN','ALT',\n",
    "            'FERRITIN','NTX TELOPEPTIDE','PROTEIN IMMUNOFIX ELECTROPHORESIS','CELIAC DISEASE SCREEN','NON-GYN CYTOLOGY EXAM','URIC ACID',\n",
    "            'AST','T-TRANSGLUTAMINASE','GAD','17OH PROG','FRUCTOSAMINE','SEX HORMONE BINDING GLOBULIN','SURVEY FOR METASTATIC THYROID CANCER',\n",
    "            'CATECHOLAMINES','NUC 131I WHOLE BODY POST THERAPY SCAN', 'GLUCOSE NON-FASTING','TRANSFERRIN SATURATION']\n",
    "\n",
    "\n",
    "N_proc = len(Top_proc_names)\n",
    "print(N_proc)\n",
    "                  \n",
    "                  "
   ]
  },
  {
   "cell_type": "markdown",
   "metadata": {},
   "source": [
    "### Create Feature Matrix of Lab Results"
   ]
  },
  {
   "cell_type": "code",
   "execution_count": 14,
   "metadata": {},
   "outputs": [
    {
     "name": "stdout",
     "output_type": "stream",
     "text": [
      "98.36065573770492%%         PC_enc  num_unq_proc  F0  F1  F2  F3  F4  F5  F6  F7  ...  F51  F52  \\\n",
      "0  131254053493            45   1   0   0   0   1   1   0   0  ...    0    0   \n",
      "1  131194225005            45   0   0   1   0   1   0   0   1  ...    0    1   \n",
      "2  131058257208            39   1   0   0   1   1   0   0   0  ...    0    0   \n",
      "3  131016182730            37   0   0   0   0   1   0   0   0  ...    0    0   \n",
      "4  131251209104            37   1   1   0   0   0   1   0   0  ...    0    0   \n",
      "\n",
      "   F53  F54  F55  F56  F57  F58  F59  F60  \n",
      "0    0    0    0    0    0    0    0    0  \n",
      "1    0    0    0    0    0    0    0    0  \n",
      "2    0    0    0    0    0    0    0    0  \n",
      "3    0    0    0    0    0    0    0    1  \n",
      "4    0    0    0    0    0    0    0    1  \n",
      "\n",
      "[5 rows x 63 columns]\n"
     ]
    }
   ],
   "source": [
    "import sys\n",
    "\n",
    "for i in range(N_proc):\n",
    "    \n",
    "    # define the search function\n",
    "    def my_func(df):\n",
    "        return int(len(df[df['proc_name'].str.contains(Top_proc_names[i])])>0)\n",
    "    \n",
    "    #def my_func(df):\n",
    "    #    return int(len(df[df['proc_name'].str.contains(Top_proc_names[i])])>0)\n",
    "    \n",
    "    F_df = df_n.groupby(['PC_enc']).apply(my_func).reset_index().rename(columns={'PC_enc':'PC_enc', 0:'F'+str(i)}) \n",
    "    unq_PC_enc = pd.merge(unq_PC_enc, F_df, how='left', on='PC_enc')\n",
    "    \n",
    "    # report i \n",
    "    sys.stdout.write('\\r')\n",
    "    sys.stdout.write(str(i/N_proc*100)+'%')\n",
    "    sys.stdout.flush()\n",
    "\n",
    "\n",
    "print(unq_PC_enc.head())\n"
   ]
  },
  {
   "cell_type": "markdown",
   "metadata": {},
   "source": [
    "### Save the Results into CSV"
   ]
  },
  {
   "cell_type": "code",
   "execution_count": 15,
   "metadata": {},
   "outputs": [
    {
     "name": "stdout",
     "output_type": "stream",
     "text": [
      "12067\n"
     ]
    }
   ],
   "source": [
    "print(len(unq_PC_enc))\n",
    "#print(unq_PC_enc.sort_values('F0',ascending=False))\n",
    "#print(np.sum(unq_PC_enc['F0'].to_numpy()))\n",
    "unq_PC_enc.to_csv('PC_proc.csv', index=False)"
   ]
  },
  {
   "cell_type": "code",
   "execution_count": null,
   "metadata": {},
   "outputs": [],
   "source": []
  },
  {
   "cell_type": "code",
   "execution_count": null,
   "metadata": {},
   "outputs": [],
   "source": []
  },
  {
   "cell_type": "code",
   "execution_count": null,
   "metadata": {},
   "outputs": [],
   "source": []
  },
  {
   "cell_type": "code",
   "execution_count": null,
   "metadata": {},
   "outputs": [],
   "source": []
  },
  {
   "cell_type": "code",
   "execution_count": null,
   "metadata": {},
   "outputs": [],
   "source": []
  },
  {
   "cell_type": "code",
   "execution_count": null,
   "metadata": {},
   "outputs": [],
   "source": []
  },
  {
   "cell_type": "code",
   "execution_count": null,
   "metadata": {},
   "outputs": [],
   "source": []
  },
  {
   "cell_type": "code",
   "execution_count": null,
   "metadata": {},
   "outputs": [],
   "source": []
  }
 ],
 "metadata": {
  "kernelspec": {
   "display_name": "Python 3",
   "language": "python",
   "name": "python3"
  },
  "language_info": {
   "codemirror_mode": {
    "name": "ipython",
    "version": 3
   },
   "file_extension": ".py",
   "mimetype": "text/x-python",
   "name": "python",
   "nbconvert_exporter": "python",
   "pygments_lexer": "ipython3",
   "version": "3.6.6"
  }
 },
 "nbformat": 4,
 "nbformat_minor": 2
}

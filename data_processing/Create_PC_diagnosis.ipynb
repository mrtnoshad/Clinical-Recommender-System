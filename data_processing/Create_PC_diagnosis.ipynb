{
 "cells": [
  {
   "cell_type": "markdown",
   "metadata": {},
   "source": [
    "### Load PC_diagnosis from BQ"
   ]
  },
  {
   "cell_type": "code",
   "execution_count": 1,
   "metadata": {},
   "outputs": [
    {
     "name": "stderr",
     "output_type": "stream",
     "text": [
      "/Library/Frameworks/Python.framework/Versions/3.6/lib/python3.6/site-packages/google/auth/_default.py:69: UserWarning: Your application has authenticated using end user credentials from Google Cloud SDK. We recommend that most server applications use service accounts instead. If your application continues to use end user credentials from Cloud SDK, you might receive a \"quota exceeded\" or \"API not enabled\" error. For more information about service accounts, see https://cloud.google.com/docs/authentication/\n",
      "  warnings.warn(_CLOUD_SDK_CREDENTIALS_WARNING)\n"
     ]
    }
   ],
   "source": [
    "# example: read from BigQuery chart to numpy\n",
    "from google.cloud import bigquery\n",
    "from google.cloud.bigquery import dbapi;\n",
    "import numpy as np\n",
    "import pandas as pd\n",
    "\n",
    "\n",
    "\n",
    "client = bigquery.Client(\"som-nero-phi-jonc101\"); # Project identifier\n",
    "conn = dbapi.connect(client);\n",
    "cursor = conn.cursor();\n",
    "query = \"select * from `som-nero-phi-jonc101.Clinical_Collaborative_Filtering.pc_dx`\"; # Example dataset table\n",
    "\n",
    "\n",
    "# to DataFrame\n",
    "\n",
    "df_all = (\n",
    "    client.query(query)\n",
    "    .result()\n",
    "    .to_dataframe()\n",
    ")\n",
    "\n"
   ]
  },
  {
   "cell_type": "markdown",
   "metadata": {},
   "source": [
    "### Remove unnecessary columns and rows"
   ]
  },
  {
   "cell_type": "code",
   "execution_count": 2,
   "metadata": {},
   "outputs": [
    {
     "name": "stdout",
     "output_type": "stream",
     "text": [
      "     jc_uid        PC_enc     PC_app_datetime     PC_ref_datetime  \\\n",
      "0  JCcb6607  131239705939 2017-11-28 09:15:00 2017-11-28 10:21:00   \n",
      "1  JCcb6607  131239705939 2017-11-28 09:15:00 2017-11-28 10:21:00   \n",
      "2  JCcb6607  131239705939 2017-11-28 09:15:00 2017-11-28 10:21:00   \n",
      "3  JCcb6607  131239705939 2017-11-28 09:15:00 2017-11-28 10:21:00   \n",
      "4  JCcb6607  131239705939 2017-11-28 09:15:00 2017-11-28 10:21:00   \n",
      "\n",
      "                                        PC_diagnosis  PC_dx_id        SP_enc  \\\n",
      "0                                    History of PCOS   1165431  131240863187   \n",
      "1  Personal history of other diseases of the fema...   1368364  131240863187   \n",
      "2                                      Acne vulgaris   1294300  131240863187   \n",
      "3                                      Acne vulgaris   1294300  131240863187   \n",
      "4  Personal history of other diseases of the fema...   1368364  131240863187   \n",
      "\n",
      "      SP_app_datetime  \n",
      "0 2018-03-17 09:00:00  \n",
      "1 2018-03-17 09:00:00  \n",
      "2 2018-03-17 09:00:00  \n",
      "3 2018-03-17 09:00:00  \n",
      "4 2018-03-17 09:00:00  \n",
      "         PC_enc                                       PC_diagnosis\n",
      "0  131239705939                                    History of PCOS\n",
      "1  131239705939  Personal history of other diseases of the fema...\n",
      "2  131239705939                                      Acne vulgaris\n",
      "6  131022385152                                       Hyponatremia\n",
      "7  131022404384                                       Hyponatremia\n"
     ]
    }
   ],
   "source": [
    "print(df_all.head())\n",
    "\n",
    "# only take PC_enc and proc_id\n",
    "df = df_all[['PC_enc', 'PC_diagnosis']]\n",
    "\n",
    "# remove duplicate rows:\n",
    "df = df.drop_duplicates()\n",
    "\n",
    "print(df.head())"
   ]
  },
  {
   "cell_type": "code",
   "execution_count": 6,
   "metadata": {},
   "outputs": [
    {
     "name": "stdout",
     "output_type": "stream",
     "text": [
      "(58176, 2)\n"
     ]
    },
    {
     "data": {
      "text/plain": [
       "<matplotlib.axes._subplots.AxesSubplot at 0x12a0bfda0>"
      ]
     },
     "execution_count": 6,
     "metadata": {},
     "output_type": "execute_result"
    },
    {
     "data": {
      "image/png": "[encoded data removed]",
      "text/plain": [
       "<Figure size 432x288 with 1 Axes>"
      ]
     },
     "metadata": {
      "needs_background": "light"
     },
     "output_type": "display_data"
    }
   ],
   "source": [
    "print(df.shape)\n",
    "lendf = df.shape[0]\n",
    "df_plot = df['PC_diagnosis'].value_counts().head(10).reset_index().rename(columns={'index':'Diagnosis','PC_diagnosis':'percentage' })\n",
    "df_plot['percentage' ]=df_plot['percentage' ]/lendf\n",
    "df_plot.loc[1,'Diagnosis'] = 'Diabetes'\n",
    "df_plot.plot.bar(x='Diagnosis',y='percentage' )\n",
    "#print()"
   ]
  },
  {
   "cell_type": "markdown",
   "metadata": {},
   "source": [
    "### Create the table of unique encounter id"
   ]
  },
  {
   "cell_type": "code",
   "execution_count": 8,
   "metadata": {},
   "outputs": [
    {
     "name": "stdout",
     "output_type": "stream",
     "text": [
      "12067\n",
      "            PC_enc  num_unq_proc\n",
      "1907  131016267790           177\n",
      "4387  131038807665           107\n",
      "5002  131064987703           105\n",
      "5357  131082127660           104\n",
      "2491  131020018602            98\n",
      "All of the encounters with at least one diagnosis:  12067\n",
      "Average diagnosis per encounter:  4.82108229054446\n",
      "Min # diagnosis per encounter:  1\n",
      "Max # diagnosis per encounter:  177\n"
     ]
    }
   ],
   "source": [
    "unq_PC_enc = df.groupby(['PC_enc']).apply(len).reset_index().rename(columns={'PC_diagnosis':'PC_diagnosis', 0:'num_unq_proc'}).sort_values('num_unq_proc',ascending=False)  \n",
    "print(len(unq_PC_enc))\n",
    "print(unq_PC_enc.head())\n",
    "print('All of the encounters with at least one diagnosis: ',len(unq_PC_enc))\n",
    "print('Average diagnosis per encounter: ', np.mean(unq_PC_enc.num_unq_proc.to_numpy()))\n",
    "print('Min # diagnosis per encounter: ', np.min(unq_PC_enc.num_unq_proc.to_numpy()))\n",
    "print('Max # diagnosis per encounter: ', np.max(unq_PC_enc.num_unq_proc.to_numpy()))"
   ]
  },
  {
   "cell_type": "markdown",
   "metadata": {},
   "source": [
    "### Sort according to the most frequent labs (not necessarily how important they are)"
   ]
  },
  {
   "cell_type": "code",
   "execution_count": 9,
   "metadata": {},
   "outputs": [
    {
     "name": "stdout",
     "output_type": "stream",
     "text": [
      "10\n"
     ]
    }
   ],
   "source": [
    "\n",
    "\n",
    "Top_proc = [ ['iabetes'] # diabetes mellitus, Type II or unspecified type diabetes mellitus, Prediabetes\n",
    "            , ['ypercalcemia', 'hyperparathyroidism'] # Hypercalcemia\n",
    "            , ['yperlipidemia'] #hyperlipidemia\n",
    "            , ['ypothyroidism'] #hypothyroidism\n",
    "            , ['yperthyroidism', 'hyrotoxicosis' ] #hyperthyroidism or Thyrotoxicosis\n",
    "            , ['Obesity']\n",
    "            , ['steopenia'] #(Osteopenia)\n",
    "            , ['steoporosis'] #Osteoporosis\n",
    "            , ['cancer', 'alignant','carcinoma']# Thyroid cancer (CMS-HCC) ## or 'gland', or 'carcinoma'\n",
    "            , ['nodul'] # Thyroid nodule or ''goiter' #Nontoxic uninodular goiter,  Nontoxic multinodular goiter'\n",
    "            ######\n",
    "            #, 'itamin'# Vitamin D deficiency (Vitamin D insufficiency)\n",
    "           ]\n",
    "\n",
    "N_diagnosis = len(Top_proc)\n",
    "print(N_diagnosis)\n",
    "#print(Top_proc)\n",
    "\n",
    "#df=df.sort_values('num',ascending=False)"
   ]
  },
  {
   "cell_type": "markdown",
   "metadata": {},
   "source": [
    "### Create Feature Matrix of Lab Results"
   ]
  },
  {
   "cell_type": "code",
   "execution_count": 10,
   "metadata": {},
   "outputs": [
    {
     "name": "stdout",
     "output_type": "stream",
     "text": [
      "Index(['PC_enc', 'PC_diagnosis'], dtype='object')\n",
      "90.0%         PC_enc  num_unq_proc  F0  F1  F2  F3  F4  F5  F6  F7  F8  F9\n",
      "0  131016267790           177   1   1   1   1   0   0   0   0   0   0\n",
      "1  131038807665           107   0   0   0   0   0   0   0   0   0   0\n",
      "2  131064987703           105   1   0   0   0   0   0   0   0   0   0\n",
      "3  131082127660           104   0   0   0   0   0   0   0   0   0   0\n",
      "4  131020018602            98   1   0   0   1   0   1   0   0   0   0\n"
     ]
    }
   ],
   "source": [
    "print(df.columns)\n",
    "import sys\n",
    "\n",
    "for i in range(N_diagnosis):\n",
    "    \n",
    "    # define the function: applies on the lab results of each encounter\n",
    "    def my_func(df):\n",
    "        L = Top_proc[i]\n",
    "        s = 0\n",
    "        for j in range(len(L)):\n",
    "            s = s + len(df[df.PC_diagnosis.str.contains(L[j])])\n",
    "        return int(s>0)\n",
    "\n",
    "        #return int(len(df.query('SP_diagnosis.str.contains(\"iabetes\")'))>0)\n",
    "    \n",
    "    F_df = df.groupby(['PC_enc']).apply(my_func).reset_index().rename(columns={'PC_diagnosis':'PC_diagnosis', 0:'F'+str(i)}) \n",
    "    unq_PC_enc = pd.merge(unq_PC_enc, F_df, how='left', on='PC_enc')\n",
    "    \n",
    "    # report i \n",
    "    sys.stdout.write('\\r')\n",
    "    sys.stdout.write(str(i/N_diagnosis*100)+'%')\n",
    "    sys.stdout.flush()\n",
    "\n",
    "\n",
    "print(unq_PC_enc.head())\n"
   ]
  },
  {
   "cell_type": "markdown",
   "metadata": {},
   "source": [
    "### Save the Results into CSV"
   ]
  },
  {
   "cell_type": "code",
   "execution_count": 11,
   "metadata": {},
   "outputs": [
    {
     "name": "stdout",
     "output_type": "stream",
     "text": [
      "12067\n"
     ]
    }
   ],
   "source": [
    "print(len(unq_PC_enc)) \n",
    "#print(unq_PC_enc.sort_values('F0',ascending=False))\n",
    "#print(np.sum(unq_PC_enc['F0'].to_numpy()))\n",
    "unq_PC_enc.to_csv('PC_diagnosis.csv', index=False)"
   ]
  },
  {
   "cell_type": "markdown",
   "metadata": {},
   "source": [
    "### Do some analysis "
   ]
  },
  {
   "cell_type": "code",
   "execution_count": 12,
   "metadata": {},
   "outputs": [
    {
     "name": "stdout",
     "output_type": "stream",
     "text": [
      "Number of patient with each of the diagnosis\n",
      "2918\n",
      "208\n",
      "993\n",
      "1319\n",
      "636\n",
      "274\n",
      "306\n",
      "933\n",
      "1969\n",
      "1398\n"
     ]
    },
    {
     "ename": "KeyError",
     "evalue": "'F10'",
     "output_type": "error",
     "traceback": [
      "\u001b[0;31m---------------------------------------------------------------------------\u001b[0m",
      "\u001b[0;31mKeyError\u001b[0m                                  Traceback (most recent call last)",
      "\u001b[0;32m/Library/Frameworks/Python.framework/Versions/3.6/lib/python3.6/site-packages/pandas/core/indexes/base.py\u001b[0m in \u001b[0;36mget_loc\u001b[0;34m(self, key, method, tolerance)\u001b[0m\n\u001b[1;32m   2896\u001b[0m             \u001b[0;32mtry\u001b[0m\u001b[0;34m:\u001b[0m\u001b[0;34m\u001b[0m\u001b[0m\n\u001b[0;32m-> 2897\u001b[0;31m                 \u001b[0;32mreturn\u001b[0m \u001b[0mself\u001b[0m\u001b[0;34m.\u001b[0m\u001b[0m_engine\u001b[0m\u001b[0;34m.\u001b[0m\u001b[0mget_loc\u001b[0m\u001b[0;34m(\u001b[0m\u001b[0mkey\u001b[0m\u001b[0;34m)\u001b[0m\u001b[0;34m\u001b[0m\u001b[0m\n\u001b[0m\u001b[1;32m   2898\u001b[0m             \u001b[0;32mexcept\u001b[0m \u001b[0mKeyError\u001b[0m\u001b[0;34m:\u001b[0m\u001b[0;34m\u001b[0m\u001b[0m\n",
      "\u001b[0;32mpandas/_libs/index.pyx\u001b[0m in \u001b[0;36mpandas._libs.index.IndexEngine.get_loc\u001b[0;34m()\u001b[0m\n",
      "\u001b[0;32mpandas/_libs/index.pyx\u001b[0m in \u001b[0;36mpandas._libs.index.IndexEngine.get_loc\u001b[0;34m()\u001b[0m\n",
      "\u001b[0;32mpandas/_libs/hashtable_class_helper.pxi\u001b[0m in \u001b[0;36mpandas._libs.hashtable.PyObjectHashTable.get_item\u001b[0;34m()\u001b[0m\n",
      "\u001b[0;32mpandas/_libs/hashtable_class_helper.pxi\u001b[0m in \u001b[0;36mpandas._libs.hashtable.PyObjectHashTable.get_item\u001b[0;34m()\u001b[0m\n",
      "\u001b[0;31mKeyError\u001b[0m: 'F10'",
      "\nDuring handling of the above exception, another exception occurred:\n",
      "\u001b[0;31mKeyError\u001b[0m                                  Traceback (most recent call last)",
      "\u001b[0;32m<ipython-input-12-16c0538ab006>\u001b[0m in \u001b[0;36m<module>\u001b[0;34m\u001b[0m\n\u001b[1;32m      1\u001b[0m \u001b[0mprint\u001b[0m\u001b[0;34m(\u001b[0m\u001b[0;34m'Number of patient with each of the diagnosis'\u001b[0m\u001b[0;34m)\u001b[0m\u001b[0;34m\u001b[0m\u001b[0m\n\u001b[1;32m      2\u001b[0m \u001b[0;32mfor\u001b[0m \u001b[0mi\u001b[0m \u001b[0;32min\u001b[0m \u001b[0mrange\u001b[0m\u001b[0;34m(\u001b[0m\u001b[0;36m15\u001b[0m\u001b[0;34m)\u001b[0m\u001b[0;34m:\u001b[0m\u001b[0;34m\u001b[0m\u001b[0m\n\u001b[0;32m----> 3\u001b[0;31m     \u001b[0mprint\u001b[0m\u001b[0;34m(\u001b[0m\u001b[0mnp\u001b[0m\u001b[0;34m.\u001b[0m\u001b[0msum\u001b[0m\u001b[0;34m(\u001b[0m\u001b[0munq_PC_enc\u001b[0m\u001b[0;34m[\u001b[0m\u001b[0;34m'F'\u001b[0m\u001b[0;34m+\u001b[0m\u001b[0mstr\u001b[0m\u001b[0;34m(\u001b[0m\u001b[0mi\u001b[0m\u001b[0;34m)\u001b[0m\u001b[0;34m]\u001b[0m\u001b[0;34m.\u001b[0m\u001b[0mto_numpy\u001b[0m\u001b[0;34m(\u001b[0m\u001b[0;34m)\u001b[0m\u001b[0;34m)\u001b[0m\u001b[0;34m)\u001b[0m\u001b[0;34m\u001b[0m\u001b[0m\n\u001b[0m\u001b[1;32m      4\u001b[0m \u001b[0;34m\u001b[0m\u001b[0m\n\u001b[1;32m      5\u001b[0m \u001b[0;31m#F0: 3612\u001b[0m\u001b[0;34m\u001b[0m\u001b[0;34m\u001b[0m\u001b[0m\n",
      "\u001b[0;32m/Library/Frameworks/Python.framework/Versions/3.6/lib/python3.6/site-packages/pandas/core/frame.py\u001b[0m in \u001b[0;36m__getitem__\u001b[0;34m(self, key)\u001b[0m\n\u001b[1;32m   2993\u001b[0m             \u001b[0;32mif\u001b[0m \u001b[0mself\u001b[0m\u001b[0;34m.\u001b[0m\u001b[0mcolumns\u001b[0m\u001b[0;34m.\u001b[0m\u001b[0mnlevels\u001b[0m \u001b[0;34m>\u001b[0m \u001b[0;36m1\u001b[0m\u001b[0;34m:\u001b[0m\u001b[0;34m\u001b[0m\u001b[0m\n\u001b[1;32m   2994\u001b[0m                 \u001b[0;32mreturn\u001b[0m \u001b[0mself\u001b[0m\u001b[0;34m.\u001b[0m\u001b[0m_getitem_multilevel\u001b[0m\u001b[0;34m(\u001b[0m\u001b[0mkey\u001b[0m\u001b[0;34m)\u001b[0m\u001b[0;34m\u001b[0m\u001b[0m\n\u001b[0;32m-> 2995\u001b[0;31m             \u001b[0mindexer\u001b[0m \u001b[0;34m=\u001b[0m \u001b[0mself\u001b[0m\u001b[0;34m.\u001b[0m\u001b[0mcolumns\u001b[0m\u001b[0;34m.\u001b[0m\u001b[0mget_loc\u001b[0m\u001b[0;34m(\u001b[0m\u001b[0mkey\u001b[0m\u001b[0;34m)\u001b[0m\u001b[0;34m\u001b[0m\u001b[0m\n\u001b[0m\u001b[1;32m   2996\u001b[0m             \u001b[0;32mif\u001b[0m \u001b[0mis_integer\u001b[0m\u001b[0;34m(\u001b[0m\u001b[0mindexer\u001b[0m\u001b[0;34m)\u001b[0m\u001b[0;34m:\u001b[0m\u001b[0;34m\u001b[0m\u001b[0m\n\u001b[1;32m   2997\u001b[0m                 \u001b[0mindexer\u001b[0m \u001b[0;34m=\u001b[0m \u001b[0;34m[\u001b[0m\u001b[0mindexer\u001b[0m\u001b[0;34m]\u001b[0m\u001b[0;34m\u001b[0m\u001b[0m\n",
      "\u001b[0;32m/Library/Frameworks/Python.framework/Versions/3.6/lib/python3.6/site-packages/pandas/core/indexes/base.py\u001b[0m in \u001b[0;36mget_loc\u001b[0;34m(self, key, method, tolerance)\u001b[0m\n\u001b[1;32m   2897\u001b[0m                 \u001b[0;32mreturn\u001b[0m \u001b[0mself\u001b[0m\u001b[0;34m.\u001b[0m\u001b[0m_engine\u001b[0m\u001b[0;34m.\u001b[0m\u001b[0mget_loc\u001b[0m\u001b[0;34m(\u001b[0m\u001b[0mkey\u001b[0m\u001b[0;34m)\u001b[0m\u001b[0;34m\u001b[0m\u001b[0m\n\u001b[1;32m   2898\u001b[0m             \u001b[0;32mexcept\u001b[0m \u001b[0mKeyError\u001b[0m\u001b[0;34m:\u001b[0m\u001b[0;34m\u001b[0m\u001b[0m\n\u001b[0;32m-> 2899\u001b[0;31m                 \u001b[0;32mreturn\u001b[0m \u001b[0mself\u001b[0m\u001b[0;34m.\u001b[0m\u001b[0m_engine\u001b[0m\u001b[0;34m.\u001b[0m\u001b[0mget_loc\u001b[0m\u001b[0;34m(\u001b[0m\u001b[0mself\u001b[0m\u001b[0;34m.\u001b[0m\u001b[0m_maybe_cast_indexer\u001b[0m\u001b[0;34m(\u001b[0m\u001b[0mkey\u001b[0m\u001b[0;34m)\u001b[0m\u001b[0;34m)\u001b[0m\u001b[0;34m\u001b[0m\u001b[0m\n\u001b[0m\u001b[1;32m   2900\u001b[0m         \u001b[0mindexer\u001b[0m \u001b[0;34m=\u001b[0m \u001b[0mself\u001b[0m\u001b[0;34m.\u001b[0m\u001b[0mget_indexer\u001b[0m\u001b[0;34m(\u001b[0m\u001b[0;34m[\u001b[0m\u001b[0mkey\u001b[0m\u001b[0;34m]\u001b[0m\u001b[0;34m,\u001b[0m \u001b[0mmethod\u001b[0m\u001b[0;34m=\u001b[0m\u001b[0mmethod\u001b[0m\u001b[0;34m,\u001b[0m \u001b[0mtolerance\u001b[0m\u001b[0;34m=\u001b[0m\u001b[0mtolerance\u001b[0m\u001b[0;34m)\u001b[0m\u001b[0;34m\u001b[0m\u001b[0m\n\u001b[1;32m   2901\u001b[0m         \u001b[0;32mif\u001b[0m \u001b[0mindexer\u001b[0m\u001b[0;34m.\u001b[0m\u001b[0mndim\u001b[0m \u001b[0;34m>\u001b[0m \u001b[0;36m1\u001b[0m \u001b[0;32mor\u001b[0m \u001b[0mindexer\u001b[0m\u001b[0;34m.\u001b[0m\u001b[0msize\u001b[0m \u001b[0;34m>\u001b[0m \u001b[0;36m1\u001b[0m\u001b[0;34m:\u001b[0m\u001b[0;34m\u001b[0m\u001b[0m\n",
      "\u001b[0;32mpandas/_libs/index.pyx\u001b[0m in \u001b[0;36mpandas._libs.index.IndexEngine.get_loc\u001b[0;34m()\u001b[0m\n",
      "\u001b[0;32mpandas/_libs/index.pyx\u001b[0m in \u001b[0;36mpandas._libs.index.IndexEngine.get_loc\u001b[0;34m()\u001b[0m\n",
      "\u001b[0;32mpandas/_libs/hashtable_class_helper.pxi\u001b[0m in \u001b[0;36mpandas._libs.hashtable.PyObjectHashTable.get_item\u001b[0;34m()\u001b[0m\n",
      "\u001b[0;32mpandas/_libs/hashtable_class_helper.pxi\u001b[0m in \u001b[0;36mpandas._libs.hashtable.PyObjectHashTable.get_item\u001b[0;34m()\u001b[0m\n",
      "\u001b[0;31mKeyError\u001b[0m: 'F10'"
     ]
    }
   ],
   "source": [
    "print('Number of patient with each of the diagnosis')\n",
    "for i in range(15):\n",
    "    print(np.sum(unq_PC_enc['F'+str(i)].to_numpy()))\n",
    "\n",
    "#F0: 3612\n",
    "#F1: 1650"
   ]
  },
  {
   "cell_type": "code",
   "execution_count": null,
   "metadata": {},
   "outputs": [],
   "source": []
  },
  {
   "cell_type": "code",
   "execution_count": 5,
   "metadata": {},
   "outputs": [
    {
     "name": "stdout",
     "output_type": "stream",
     "text": [
      "2\n"
     ]
    }
   ],
   "source": [
    "A = [['abbsda'], ['bdsad' ,'cff']]\n",
    "print(len(A[1]))"
   ]
  },
  {
   "cell_type": "code",
   "execution_count": null,
   "metadata": {},
   "outputs": [],
   "source": []
  },
  {
   "cell_type": "code",
   "execution_count": null,
   "metadata": {},
   "outputs": [],
   "source": []
  },
  {
   "cell_type": "code",
   "execution_count": null,
   "metadata": {},
   "outputs": [],
   "source": []
  },
  {
   "cell_type": "code",
   "execution_count": null,
   "metadata": {},
   "outputs": [],
   "source": []
  }
 ],
 "metadata": {
  "kernelspec": {
   "display_name": "Python 3",
   "language": "python",
   "name": "python3"
  },
  "language_info": {
   "codemirror_mode": {
    "name": "ipython",
    "version": 3
   },
   "file_extension": ".py",
   "mimetype": "text/x-python",
   "name": "python",
   "nbconvert_exporter": "python",
   "pygments_lexer": "ipython3",
   "version": "3.6.6"
  }
 },
 "nbformat": 4,
 "nbformat_minor": 2
}

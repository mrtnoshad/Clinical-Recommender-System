{
 "cells": [
  {
   "cell_type": "code",
   "execution_count": 20,
   "metadata": {},
   "outputs": [
    {
     "name": "stderr",
     "output_type": "stream",
     "text": [
      "/Library/Frameworks/Python.framework/Versions/3.6/lib/python3.6/site-packages/google/auth/_default.py:69: UserWarning: Your application has authenticated using end user credentials from Google Cloud SDK. We recommend that most server applications use service accounts instead. If your application continues to use end user credentials from Cloud SDK, you might receive a \"quota exceeded\" or \"API not enabled\" error. For more information about service accounts, see https://cloud.google.com/docs/authentication/\n",
      "  warnings.warn(_CLOUD_SDK_CREDENTIALS_WARNING)\n"
     ]
    },
    {
     "name": "stdout",
     "output_type": "stream",
     "text": [
      "[['JCe7c195' 'Female' datetime.date(1951, 7, 1)]\n",
      " ['JCe56271' 'Female' datetime.date(1982, 5, 15)]\n",
      " ['JCcd71f2' 'Female' datetime.date(1949, 6, 11)]\n",
      " ['JCd492cf' 'Male' datetime.date(2013, 6, 2)]\n",
      " ['JCe5c10b' 'Male' datetime.date(1966, 1, 21)]\n",
      " ['JCdd6b95' 'Male' datetime.date(1976, 3, 30)]\n",
      " ['JCe5bd7a' 'Female' datetime.date(2009, 9, 25)]\n",
      " ['JCce1f67' 'Female' datetime.date(1966, 5, 17)]\n",
      " ['JCd2000c' 'Male' datetime.date(1942, 10, 29)]\n",
      " ['JCcbfe91' 'Male' datetime.date(2003, 6, 3)]]\n",
      "Row(('JCe7c195', 'Female', datetime.date(1951, 7, 1)), {'rit_uid': 0, 'gender': 1, 'birth_date_jittered': 2})\n",
      "Row(('JCe56271', 'Female', datetime.date(1982, 5, 15)), {'rit_uid': 0, 'gender': 1, 'birth_date_jittered': 2})\n",
      "Row(('JCcd71f2', 'Female', datetime.date(1949, 6, 11)), {'rit_uid': 0, 'gender': 1, 'birth_date_jittered': 2})\n",
      "Row(('JCd492cf', 'Male', datetime.date(2013, 6, 2)), {'rit_uid': 0, 'gender': 1, 'birth_date_jittered': 2})\n",
      "Row(('JCe5c10b', 'Male', datetime.date(1966, 1, 21)), {'rit_uid': 0, 'gender': 1, 'birth_date_jittered': 2})\n",
      "Row(('JCdd6b95', 'Male', datetime.date(1976, 3, 30)), {'rit_uid': 0, 'gender': 1, 'birth_date_jittered': 2})\n",
      "Row(('JCe5bd7a', 'Female', datetime.date(2009, 9, 25)), {'rit_uid': 0, 'gender': 1, 'birth_date_jittered': 2})\n",
      "Row(('JCce1f67', 'Female', datetime.date(1966, 5, 17)), {'rit_uid': 0, 'gender': 1, 'birth_date_jittered': 2})\n",
      "Row(('JCd2000c', 'Male', datetime.date(1942, 10, 29)), {'rit_uid': 0, 'gender': 1, 'birth_date_jittered': 2})\n",
      "Row(('JCcbfe91', 'Male', datetime.date(2003, 6, 3)), {'rit_uid': 0, 'gender': 1, 'birth_date_jittered': 2})\n"
     ]
    }
   ],
   "source": [
    "# example: read from BigQuery chart to numpy\n",
    "from google.cloud import bigquery\n",
    "from google.cloud.bigquery import dbapi;\n",
    "client = bigquery.Client(\"som-nero-phi-jonc101\"); # Project identifier\n",
    "conn = dbapi.connect(client);\n",
    "cursor = conn.cursor();\n",
    "query = \"select rit_uid, gender, birth_date_jittered from `starr_datalake2018.demographic` limit 10\"; # Example dataset table\n",
    "cursor.execute(query);\n",
    "results = cursor.fetchall();\n",
    "\n",
    "# return in numpy array\n",
    "print(np.array(results))\n",
    "\n",
    "for row in results:\n",
    "    print(row);\n",
    "\n",
    "    \n",
    "# Comment regarding the warning:\n",
    "#    It seems that Service accounts is restriced for our project. But you can try using \n",
    "#.    https://www.blendo.co/blog/access-data-google-bigquery-python-r/"
   ]
  },
  {
   "cell_type": "code",
   "execution_count": 26,
   "metadata": {},
   "outputs": [
    {
     "name": "stderr",
     "output_type": "stream",
     "text": [
      "/Library/Frameworks/Python.framework/Versions/3.6/lib/python3.6/site-packages/google/auth/_default.py:69: UserWarning: Your application has authenticated using end user credentials from Google Cloud SDK. We recommend that most server applications use service accounts instead. If your application continues to use end user credentials from Cloud SDK, you might receive a \"quota exceeded\" or \"API not enabled\" error. For more information about service accounts, see https://cloud.google.com/docs/authentication/\n",
      "  warnings.warn(_CLOUD_SDK_CREDENTIALS_WARNING)\n"
     ]
    },
    {
     "data": {
      "text/plain": [
       "<google.cloud.bigquery.job.LoadJob at 0x129179940>"
      ]
     },
     "execution_count": 26,
     "metadata": {},
     "output_type": "execute_result"
    }
   ],
   "source": [
    "# Example: create a table in BigQuery from a local CSV file.\n",
    "\n",
    "from google.cloud import bigquery\n",
    "client = bigquery.Client(\"som-nero-phi-jonc101\"); # Project identifier\n",
    "#Define your schema\n",
    "schemafield_col1 = bigquery.schema.SchemaField(\"user_role\",\"STRING\")\n",
    "schemafield_col2 = bigquery.schema.SchemaField(\"role_count\",\"INTEGER\")\n",
    "\n",
    "\n",
    "\n",
    "filename = 'role_stat.csv'\n",
    "table_id = 'test_biquery_API_table'\n",
    "\n",
    "dataset_ref = client.dataset('noshad_test')\n",
    "table_ref = dataset_ref.table(table_id)\n",
    "\n",
    "job_config = bigquery.LoadJobConfig()\n",
    "job_config.source_format = bigquery.SourceFormat.CSV\n",
    "job_config.skip_leading_rows = 1\n",
    "job_config.autodetect = True\n",
    "\n",
    "with open(filename, \"rb\") as source_file:\n",
    "    job = client.load_table_from_file(source_file, table_ref, job_config=job_config)\n",
    "\n",
    "job.result()  # Waits for table load to complete."
   ]
  },
  {
   "cell_type": "code",
   "execution_count": null,
   "metadata": {},
   "outputs": [],
   "source": []
  }
 ],
 "metadata": {
  "kernelspec": {
   "display_name": "Python 3",
   "language": "python",
   "name": "python3"
  },
  "language_info": {
   "codemirror_mode": {
    "name": "ipython",
    "version": 3
   },
   "file_extension": ".py",
   "mimetype": "text/x-python",
   "name": "python",
   "nbconvert_exporter": "python",
   "pygments_lexer": "ipython3",
   "version": "3.6.6"
  }
 },
 "nbformat": 4,
 "nbformat_minor": 2
}
